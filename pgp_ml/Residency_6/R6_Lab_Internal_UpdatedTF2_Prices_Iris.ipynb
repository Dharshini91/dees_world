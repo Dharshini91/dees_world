{
 "cells": [
  {
   "cell_type": "markdown",
   "metadata": {
    "colab_type": "text",
    "id": "84Q8JfvaeZZ6"
   },
   "source": [
    "## Linear Classifier in TensorFlow \n",
    "Using Low Level API in Eager Execution mode"
   ]
  },
  {
   "cell_type": "code",
   "execution_count": 1,
   "metadata": {},
   "outputs": [],
   "source": [
    "from IPython.core.interactiveshell import InteractiveShell\n",
    "InteractiveShell.ast_node_interactivity = \"all\"\n",
    "import warnings;\n",
    "warnings.simplefilter('ignore')"
   ]
  },
  {
   "cell_type": "markdown",
   "metadata": {
    "colab_type": "text",
    "id": "sb7Epo0VOB58"
   },
   "source": [
    "### Load tensorflow"
   ]
  },
  {
   "cell_type": "code",
   "execution_count": 2,
   "metadata": {
    "colab": {},
    "colab_type": "code",
    "id": "fHpCNRv1OB5-"
   },
   "outputs": [],
   "source": [
    "import tensorflow as tf"
   ]
  },
  {
   "cell_type": "code",
   "execution_count": 3,
   "metadata": {
    "colab": {},
    "colab_type": "code",
    "id": "Mjtb-EMcm5K0"
   },
   "outputs": [
    {
     "data": {
      "text/plain": [
       "'1.13.1'"
      ]
     },
     "execution_count": 3,
     "metadata": {},
     "output_type": "execute_result"
    }
   ],
   "source": [
    "#Enable Eager Execution if using tensflow version < 2.0\n",
    "#From tensorflow v2.0 onwards, Eager Execution will be enabled by default\n",
    "\n",
    "tf.__version__"
   ]
  },
  {
   "cell_type": "code",
   "execution_count": 4,
   "metadata": {},
   "outputs": [],
   "source": [
    "tf.enable_eager_execution()\n"
   ]
  },
  {
   "cell_type": "markdown",
   "metadata": {
    "colab_type": "text",
    "id": "DxJDmJqqOB6K",
    "slideshow": {
     "slide_type": "slide"
    }
   },
   "source": [
    "### Collect Data"
   ]
  },
  {
   "cell_type": "code",
   "execution_count": 5,
   "metadata": {
    "colab": {},
    "colab_type": "code",
    "id": "FhllFLyKOB6N"
   },
   "outputs": [],
   "source": [
    "#from google.colab import drive\n",
    "#drive.mount('/gdrive')"
   ]
  },
  {
   "cell_type": "code",
   "execution_count": 6,
   "metadata": {
    "colab": {},
    "colab_type": "code",
    "id": "KiObW4V4SIOz"
   },
   "outputs": [],
   "source": [
    "import pandas as pd"
   ]
  },
  {
   "cell_type": "code",
   "execution_count": 7,
   "metadata": {
    "colab": {},
    "colab_type": "code",
    "id": "B4yQKMiJOB6R"
   },
   "outputs": [],
   "source": [
    "data = pd.read_csv('prices.csv')"
   ]
  },
  {
   "cell_type": "markdown",
   "metadata": {
    "colab_type": "text",
    "id": "fgkX6SEqOB6W"
   },
   "source": [
    "### Check all columns in the dataset"
   ]
  },
  {
   "cell_type": "code",
   "execution_count": 8,
   "metadata": {},
   "outputs": [
    {
     "data": {
      "text/plain": [
       "(851264, 7)"
      ]
     },
     "execution_count": 8,
     "metadata": {},
     "output_type": "execute_result"
    }
   ],
   "source": [
    "data.shape"
   ]
  },
  {
   "cell_type": "code",
   "execution_count": 9,
   "metadata": {
    "colab": {},
    "colab_type": "code",
    "id": "7K8pWsNQOB6X"
   },
   "outputs": [
    {
     "data": {
      "text/plain": [
       "Index(['date', 'symbol', 'open', 'close', 'low', 'high', 'volume'], dtype='object')"
      ]
     },
     "execution_count": 9,
     "metadata": {},
     "output_type": "execute_result"
    }
   ],
   "source": [
    "data.columns"
   ]
  },
  {
   "cell_type": "code",
   "execution_count": 10,
   "metadata": {},
   "outputs": [
    {
     "data": {
      "text/html": [
       "<div>\n",
       "<style scoped>\n",
       "    .dataframe tbody tr th:only-of-type {\n",
       "        vertical-align: middle;\n",
       "    }\n",
       "\n",
       "    .dataframe tbody tr th {\n",
       "        vertical-align: top;\n",
       "    }\n",
       "\n",
       "    .dataframe thead th {\n",
       "        text-align: right;\n",
       "    }\n",
       "</style>\n",
       "<table border=\"1\" class=\"dataframe\">\n",
       "  <thead>\n",
       "    <tr style=\"text-align: right;\">\n",
       "      <th></th>\n",
       "      <th>date</th>\n",
       "      <th>symbol</th>\n",
       "      <th>open</th>\n",
       "      <th>close</th>\n",
       "      <th>low</th>\n",
       "      <th>high</th>\n",
       "      <th>volume</th>\n",
       "    </tr>\n",
       "  </thead>\n",
       "  <tbody>\n",
       "    <tr>\n",
       "      <th>0</th>\n",
       "      <td>2016-01-05 00:00:00</td>\n",
       "      <td>WLTW</td>\n",
       "      <td>123.430000</td>\n",
       "      <td>125.839996</td>\n",
       "      <td>122.309998</td>\n",
       "      <td>126.250000</td>\n",
       "      <td>2163600.0</td>\n",
       "    </tr>\n",
       "    <tr>\n",
       "      <th>1</th>\n",
       "      <td>2016-01-06 00:00:00</td>\n",
       "      <td>WLTW</td>\n",
       "      <td>125.239998</td>\n",
       "      <td>119.980003</td>\n",
       "      <td>119.940002</td>\n",
       "      <td>125.540001</td>\n",
       "      <td>2386400.0</td>\n",
       "    </tr>\n",
       "    <tr>\n",
       "      <th>2</th>\n",
       "      <td>2016-01-07 00:00:00</td>\n",
       "      <td>WLTW</td>\n",
       "      <td>116.379997</td>\n",
       "      <td>114.949997</td>\n",
       "      <td>114.930000</td>\n",
       "      <td>119.739998</td>\n",
       "      <td>2489500.0</td>\n",
       "    </tr>\n",
       "    <tr>\n",
       "      <th>3</th>\n",
       "      <td>2016-01-08 00:00:00</td>\n",
       "      <td>WLTW</td>\n",
       "      <td>115.480003</td>\n",
       "      <td>116.620003</td>\n",
       "      <td>113.500000</td>\n",
       "      <td>117.440002</td>\n",
       "      <td>2006300.0</td>\n",
       "    </tr>\n",
       "    <tr>\n",
       "      <th>4</th>\n",
       "      <td>2016-01-11 00:00:00</td>\n",
       "      <td>WLTW</td>\n",
       "      <td>117.010002</td>\n",
       "      <td>114.970001</td>\n",
       "      <td>114.089996</td>\n",
       "      <td>117.330002</td>\n",
       "      <td>1408600.0</td>\n",
       "    </tr>\n",
       "  </tbody>\n",
       "</table>\n",
       "</div>"
      ],
      "text/plain": [
       "                  date symbol        open       close         low        high  \\\n",
       "0  2016-01-05 00:00:00   WLTW  123.430000  125.839996  122.309998  126.250000   \n",
       "1  2016-01-06 00:00:00   WLTW  125.239998  119.980003  119.940002  125.540001   \n",
       "2  2016-01-07 00:00:00   WLTW  116.379997  114.949997  114.930000  119.739998   \n",
       "3  2016-01-08 00:00:00   WLTW  115.480003  116.620003  113.500000  117.440002   \n",
       "4  2016-01-11 00:00:00   WLTW  117.010002  114.970001  114.089996  117.330002   \n",
       "\n",
       "      volume  \n",
       "0  2163600.0  \n",
       "1  2386400.0  \n",
       "2  2489500.0  \n",
       "3  2006300.0  \n",
       "4  1408600.0  "
      ]
     },
     "execution_count": 10,
     "metadata": {},
     "output_type": "execute_result"
    }
   ],
   "source": [
    "data.head()"
   ]
  },
  {
   "cell_type": "markdown",
   "metadata": {
    "colab_type": "text",
    "id": "7dU6X7MpOB6c"
   },
   "source": [
    "### Drop columns `date` and  `symbol`"
   ]
  },
  {
   "cell_type": "code",
   "execution_count": 11,
   "metadata": {
    "colab": {},
    "colab_type": "code",
    "id": "lh_6spSKOB6e"
   },
   "outputs": [],
   "source": [
    "data.drop('date', axis=1, inplace=True)"
   ]
  },
  {
   "cell_type": "code",
   "execution_count": 12,
   "metadata": {},
   "outputs": [],
   "source": [
    "data.drop('symbol', axis=1, inplace=True)"
   ]
  },
  {
   "cell_type": "code",
   "execution_count": 13,
   "metadata": {
    "colab": {},
    "colab_type": "code",
    "id": "xlwbUgTwOB6i",
    "outputId": "56bad82a-f271-415a-e0d6-cbe1c4290743"
   },
   "outputs": [
    {
     "data": {
      "text/html": [
       "<div>\n",
       "<style scoped>\n",
       "    .dataframe tbody tr th:only-of-type {\n",
       "        vertical-align: middle;\n",
       "    }\n",
       "\n",
       "    .dataframe tbody tr th {\n",
       "        vertical-align: top;\n",
       "    }\n",
       "\n",
       "    .dataframe thead th {\n",
       "        text-align: right;\n",
       "    }\n",
       "</style>\n",
       "<table border=\"1\" class=\"dataframe\">\n",
       "  <thead>\n",
       "    <tr style=\"text-align: right;\">\n",
       "      <th></th>\n",
       "      <th>open</th>\n",
       "      <th>close</th>\n",
       "      <th>low</th>\n",
       "      <th>high</th>\n",
       "      <th>volume</th>\n",
       "    </tr>\n",
       "  </thead>\n",
       "  <tbody>\n",
       "    <tr>\n",
       "      <th>0</th>\n",
       "      <td>123.430000</td>\n",
       "      <td>125.839996</td>\n",
       "      <td>122.309998</td>\n",
       "      <td>126.250000</td>\n",
       "      <td>2163600.0</td>\n",
       "    </tr>\n",
       "    <tr>\n",
       "      <th>1</th>\n",
       "      <td>125.239998</td>\n",
       "      <td>119.980003</td>\n",
       "      <td>119.940002</td>\n",
       "      <td>125.540001</td>\n",
       "      <td>2386400.0</td>\n",
       "    </tr>\n",
       "    <tr>\n",
       "      <th>2</th>\n",
       "      <td>116.379997</td>\n",
       "      <td>114.949997</td>\n",
       "      <td>114.930000</td>\n",
       "      <td>119.739998</td>\n",
       "      <td>2489500.0</td>\n",
       "    </tr>\n",
       "    <tr>\n",
       "      <th>3</th>\n",
       "      <td>115.480003</td>\n",
       "      <td>116.620003</td>\n",
       "      <td>113.500000</td>\n",
       "      <td>117.440002</td>\n",
       "      <td>2006300.0</td>\n",
       "    </tr>\n",
       "    <tr>\n",
       "      <th>4</th>\n",
       "      <td>117.010002</td>\n",
       "      <td>114.970001</td>\n",
       "      <td>114.089996</td>\n",
       "      <td>117.330002</td>\n",
       "      <td>1408600.0</td>\n",
       "    </tr>\n",
       "  </tbody>\n",
       "</table>\n",
       "</div>"
      ],
      "text/plain": [
       "         open       close         low        high     volume\n",
       "0  123.430000  125.839996  122.309998  126.250000  2163600.0\n",
       "1  125.239998  119.980003  119.940002  125.540001  2386400.0\n",
       "2  116.379997  114.949997  114.930000  119.739998  2489500.0\n",
       "3  115.480003  116.620003  113.500000  117.440002  2006300.0\n",
       "4  117.010002  114.970001  114.089996  117.330002  1408600.0"
      ]
     },
     "execution_count": 13,
     "metadata": {},
     "output_type": "execute_result"
    }
   ],
   "source": [
    "data.head()"
   ]
  },
  {
   "cell_type": "markdown",
   "metadata": {
    "colab_type": "text",
    "id": "3DBv3WWYOB6q"
   },
   "source": [
    "### Consider only first 1000 rows in the dataset for building feature set and target set\n",
    "Target 'Volume' has very high values. Divide 'Volume' by 1000,000"
   ]
  },
  {
   "cell_type": "code",
   "execution_count": 14,
   "metadata": {
    "colab": {},
    "colab_type": "code",
    "id": "Z_hG9rGBOB6s"
   },
   "outputs": [],
   "source": [
    "df = data.head(1000)"
   ]
  },
  {
   "cell_type": "code",
   "execution_count": 15,
   "metadata": {},
   "outputs": [
    {
     "data": {
      "text/plain": [
       "(1000, 5)"
      ]
     },
     "execution_count": 15,
     "metadata": {},
     "output_type": "execute_result"
    }
   ],
   "source": [
    "df.shape"
   ]
  },
  {
   "cell_type": "code",
   "execution_count": 16,
   "metadata": {},
   "outputs": [],
   "source": [
    "df['volume'] = df['volume']/1000000"
   ]
  },
  {
   "cell_type": "code",
   "execution_count": 17,
   "metadata": {},
   "outputs": [
    {
     "data": {
      "text/html": [
       "<div>\n",
       "<style scoped>\n",
       "    .dataframe tbody tr th:only-of-type {\n",
       "        vertical-align: middle;\n",
       "    }\n",
       "\n",
       "    .dataframe tbody tr th {\n",
       "        vertical-align: top;\n",
       "    }\n",
       "\n",
       "    .dataframe thead th {\n",
       "        text-align: right;\n",
       "    }\n",
       "</style>\n",
       "<table border=\"1\" class=\"dataframe\">\n",
       "  <thead>\n",
       "    <tr style=\"text-align: right;\">\n",
       "      <th></th>\n",
       "      <th>open</th>\n",
       "      <th>close</th>\n",
       "      <th>low</th>\n",
       "      <th>high</th>\n",
       "      <th>volume</th>\n",
       "    </tr>\n",
       "  </thead>\n",
       "  <tbody>\n",
       "    <tr>\n",
       "      <th>0</th>\n",
       "      <td>123.430000</td>\n",
       "      <td>125.839996</td>\n",
       "      <td>122.309998</td>\n",
       "      <td>126.250000</td>\n",
       "      <td>2.1636</td>\n",
       "    </tr>\n",
       "    <tr>\n",
       "      <th>1</th>\n",
       "      <td>125.239998</td>\n",
       "      <td>119.980003</td>\n",
       "      <td>119.940002</td>\n",
       "      <td>125.540001</td>\n",
       "      <td>2.3864</td>\n",
       "    </tr>\n",
       "    <tr>\n",
       "      <th>2</th>\n",
       "      <td>116.379997</td>\n",
       "      <td>114.949997</td>\n",
       "      <td>114.930000</td>\n",
       "      <td>119.739998</td>\n",
       "      <td>2.4895</td>\n",
       "    </tr>\n",
       "    <tr>\n",
       "      <th>3</th>\n",
       "      <td>115.480003</td>\n",
       "      <td>116.620003</td>\n",
       "      <td>113.500000</td>\n",
       "      <td>117.440002</td>\n",
       "      <td>2.0063</td>\n",
       "    </tr>\n",
       "    <tr>\n",
       "      <th>4</th>\n",
       "      <td>117.010002</td>\n",
       "      <td>114.970001</td>\n",
       "      <td>114.089996</td>\n",
       "      <td>117.330002</td>\n",
       "      <td>1.4086</td>\n",
       "    </tr>\n",
       "  </tbody>\n",
       "</table>\n",
       "</div>"
      ],
      "text/plain": [
       "         open       close         low        high  volume\n",
       "0  123.430000  125.839996  122.309998  126.250000  2.1636\n",
       "1  125.239998  119.980003  119.940002  125.540001  2.3864\n",
       "2  116.379997  114.949997  114.930000  119.739998  2.4895\n",
       "3  115.480003  116.620003  113.500000  117.440002  2.0063\n",
       "4  117.010002  114.970001  114.089996  117.330002  1.4086"
      ]
     },
     "execution_count": 17,
     "metadata": {},
     "output_type": "execute_result"
    }
   ],
   "source": [
    "df.head()"
   ]
  },
  {
   "cell_type": "markdown",
   "metadata": {
    "colab_type": "text",
    "id": "M3UaApqYOB6x"
   },
   "source": [
    "### Divide the data into train and test sets"
   ]
  },
  {
   "cell_type": "code",
   "execution_count": 18,
   "metadata": {
    "colab": {},
    "colab_type": "code",
    "id": "4LE4U8lTdQJq"
   },
   "outputs": [],
   "source": [
    "from sklearn.model_selection import train_test_split\n",
    "x=df.drop(\"volume\",axis=1)\n",
    "y=df[\"volume\"]"
   ]
  },
  {
   "cell_type": "markdown",
   "metadata": {
    "colab_type": "text",
    "id": "oYK-aUuLbrz2"
   },
   "source": [
    "#### Convert Training and Test Data to numpy float32 arrays\n"
   ]
  },
  {
   "cell_type": "code",
   "execution_count": 19,
   "metadata": {
    "colab": {},
    "colab_type": "code",
    "id": "Ao-S0tQGcncz"
   },
   "outputs": [],
   "source": [
    "x_train,x_test,y_train,y_test = train_test_split(x,y,test_size=0.2,random_state=3)\n",
    "\n",
    "x_train = x_train.astype('float32')\n",
    "y_train = y_train.astype('float32')\n",
    "x_test = x_test.astype('float32')\n",
    "y_test = y_test.astype('float32')"
   ]
  },
  {
   "cell_type": "code",
   "execution_count": 20,
   "metadata": {},
   "outputs": [
    {
     "data": {
      "text/plain": [
       "(800, 4)"
      ]
     },
     "execution_count": 20,
     "metadata": {},
     "output_type": "execute_result"
    }
   ],
   "source": [
    "x_train.shape"
   ]
  },
  {
   "cell_type": "markdown",
   "metadata": {
    "colab_type": "text",
    "id": "im1ZegbDdKgv"
   },
   "source": [
    "### Normalize the data\n",
    "You can use Normalizer from sklearn.preprocessing"
   ]
  },
  {
   "cell_type": "code",
   "execution_count": 21,
   "metadata": {
    "colab": {},
    "colab_type": "code",
    "id": "2EkKAy7fOB6y"
   },
   "outputs": [],
   "source": [
    "from sklearn.preprocessing import Normalizer"
   ]
  },
  {
   "cell_type": "code",
   "execution_count": 22,
   "metadata": {},
   "outputs": [],
   "source": [
    "transformer = Normalizer()\n",
    "x_train = transformer.fit_transform(x_train)"
   ]
  },
  {
   "cell_type": "code",
   "execution_count": 23,
   "metadata": {},
   "outputs": [],
   "source": [
    "x_test = transformer.fit_transform(x_test)"
   ]
  },
  {
   "cell_type": "markdown",
   "metadata": {
    "colab_type": "text",
    "id": "v6vE4eYCOB62",
    "slideshow": {
     "slide_type": "slide"
    }
   },
   "source": [
    "## Building the Model in tensorflow"
   ]
  },
  {
   "cell_type": "markdown",
   "metadata": {
    "colab_type": "text",
    "id": "297_qja4OB7A",
    "slideshow": {
     "slide_type": "slide"
    }
   },
   "source": [
    "1.Define Weights and Bias, use tf.zeros to initialize weights and Bias"
   ]
  },
  {
   "cell_type": "code",
   "execution_count": 24,
   "metadata": {
    "colab": {},
    "colab_type": "code",
    "id": "L205qPeQOB7B"
   },
   "outputs": [],
   "source": [
    "w = tf.zeros(shape=(4,1))\n",
    "b = tf.zeros(shape=(1))"
   ]
  },
  {
   "cell_type": "code",
   "execution_count": 25,
   "metadata": {},
   "outputs": [],
   "source": [
    "xw_matmul = tf.matmul(x_train, w)"
   ]
  },
  {
   "cell_type": "markdown",
   "metadata": {
    "colab_type": "text",
    "id": "HgtWA-UIOB7F",
    "slideshow": {
     "slide_type": "slide"
    }
   },
   "source": [
    "2.Define a function to calculate prediction"
   ]
  },
  {
   "cell_type": "code",
   "execution_count": 26,
   "metadata": {
    "colab": {},
    "colab_type": "code",
    "id": "JveGlx25OB7H"
   },
   "outputs": [],
   "source": [
    "def prediction(x, w, b):\n",
    "    \n",
    "    xw_matmul = tf.matmul(x, w)\n",
    "    y = tf.add(xw_matmul, b)\n",
    "    \n",
    "    return y"
   ]
  },
  {
   "cell_type": "markdown",
   "metadata": {
    "colab_type": "text",
    "id": "TL1hIwf_OB7M",
    "slideshow": {
     "slide_type": "slide"
    }
   },
   "source": [
    "3.Loss (Cost) Function [Mean square error]"
   ]
  },
  {
   "cell_type": "code",
   "execution_count": 27,
   "metadata": {
    "colab": {},
    "colab_type": "code",
    "id": "8VSWPiGXOB7P"
   },
   "outputs": [],
   "source": [
    "def loss(y_actual, y_predicted):\n",
    "    \n",
    "    avg = tf.reduce_mean(tf.squared_difference(y_actual,y_predicted))\n",
    "    \n",
    "    return avg"
   ]
  },
  {
   "cell_type": "markdown",
   "metadata": {},
   "source": [
    "def cost(y_actual, y_predicted):\n",
    "    \n",
    "    cost = tf.reduce_sum(tf.pow(y_predicted-y_actual, 2)) / (2 * len(y_actual))\n",
    "    return cost"
   ]
  },
  {
   "cell_type": "markdown",
   "metadata": {
    "colab_type": "text",
    "id": "jzG85FUlOB7U",
    "slideshow": {
     "slide_type": "slide"
    }
   },
   "source": [
    "4.Function to train the Model\n",
    "\n",
    "1.   Record all the mathematical steps to calculate Loss\n",
    "2.   Calculate Gradients of Loss w.r.t weights and bias\n",
    "3.   Update Weights and Bias based on gradients and learning rate to minimize loss"
   ]
  },
  {
   "cell_type": "code",
   "execution_count": 28,
   "metadata": {
    "colab": {},
    "colab_type": "code",
    "id": "cj802w-3OB7X"
   },
   "outputs": [],
   "source": [
    "def train(x, y_actual, w, b, learning_rate=0.01):\n",
    "    \n",
    "    #Record mathematical operations on 'tape' to calculate loss\n",
    "    with tf.GradientTape() as t:\n",
    "        \n",
    "        t.watch([w,b])\n",
    "        \n",
    "        current_prediction = prediction(x, w, b)\n",
    "        current_loss = loss(y_actual, current_prediction)\n",
    "        #current_cost = cost(y_actual, current_prediction)\n",
    "    #Calculate Gradients for Loss with respect to Weights and Bias\n",
    "    dw, db = t.gradient(current_loss,[w, b])\n",
    "    \n",
    "    #Update Weights and Bias\n",
    "    w = w - learning_rate*dw\n",
    "    b = b - learning_rate*db\n",
    "    \n",
    "    return w, b"
   ]
  },
  {
   "cell_type": "markdown",
   "metadata": {
    "colab_type": "text",
    "id": "xSypb_u8OB7e",
    "slideshow": {
     "slide_type": "slide"
    }
   },
   "source": [
    "## Train the model for 100 epochs \n",
    "1. Observe the training loss at every iteration\n",
    "2. Observe Train loss at every 5th iteration"
   ]
  },
  {
   "cell_type": "code",
   "execution_count": 29,
   "metadata": {
    "colab": {},
    "colab_type": "code",
    "id": "DVvgj7eQOB7f"
   },
   "outputs": [
    {
     "name": "stdout",
     "output_type": "stream",
     "text": [
      "Current Loss on iteration 0 197.8092\n",
      "Current Loss on iteration 1 195.7881\n",
      "Current Loss on iteration 2 193.92534\n",
      "Current Loss on iteration 3 192.2088\n",
      "Current Loss on iteration 4 190.62653\n",
      "Current Loss on iteration 5 189.1686\n",
      "Current Loss on iteration 6 187.82487\n",
      "Current Loss on iteration 7 186.58644\n",
      "Current Loss on iteration 8 185.44519\n",
      "Current Loss on iteration 9 184.39333\n",
      "Current Loss on iteration 10 183.42393\n",
      "Current Loss on iteration 11 182.53052\n",
      "Current Loss on iteration 12 181.70721\n",
      "Current Loss on iteration 13 180.94847\n",
      "Current Loss on iteration 14 180.24915\n",
      "Current Loss on iteration 15 179.60464\n",
      "Current Loss on iteration 16 179.01074\n",
      "Current Loss on iteration 17 178.46338\n",
      "Current Loss on iteration 18 177.95891\n",
      "Current Loss on iteration 19 177.49393\n",
      "Current Loss on iteration 20 177.06548\n",
      "Current Loss on iteration 21 176.67062\n",
      "Current Loss on iteration 22 176.30669\n",
      "Current Loss on iteration 23 175.97137\n",
      "Current Loss on iteration 24 175.6622\n",
      "Current Loss on iteration 25 175.37727\n",
      "Current Loss on iteration 26 175.1148\n",
      "Current Loss on iteration 27 174.8729\n",
      "Current Loss on iteration 28 174.64983\n",
      "Current Loss on iteration 29 174.44435\n",
      "Current Loss on iteration 30 174.255\n",
      "Current Loss on iteration 31 174.08049\n",
      "Current Loss on iteration 32 173.91959\n",
      "Current Loss on iteration 33 173.77133\n",
      "Current Loss on iteration 34 173.63467\n",
      "Current Loss on iteration 35 173.50879\n",
      "Current Loss on iteration 36 173.39273\n",
      "Current Loss on iteration 37 173.28583\n",
      "Current Loss on iteration 38 173.1872\n",
      "Current Loss on iteration 39 173.09642\n",
      "Current Loss on iteration 40 173.01273\n",
      "Current Loss on iteration 41 172.93547\n",
      "Current Loss on iteration 42 172.86443\n",
      "Current Loss on iteration 43 172.79893\n",
      "Current Loss on iteration 44 172.73857\n",
      "Current Loss on iteration 45 172.68283\n",
      "Current Loss on iteration 46 172.63159\n",
      "Current Loss on iteration 47 172.5843\n",
      "Current Loss on iteration 48 172.54083\n",
      "Current Loss on iteration 49 172.50063\n",
      "Current Loss on iteration 50 172.46353\n",
      "Current Loss on iteration 51 172.42947\n",
      "Current Loss on iteration 52 172.39803\n",
      "Current Loss on iteration 53 172.36908\n",
      "Current Loss on iteration 54 172.3424\n",
      "Current Loss on iteration 55 172.31775\n",
      "Current Loss on iteration 56 172.29515\n",
      "Current Loss on iteration 57 172.27414\n",
      "Current Loss on iteration 58 172.25502\n",
      "Current Loss on iteration 59 172.2372\n",
      "Current Loss on iteration 60 172.22086\n",
      "Current Loss on iteration 61 172.2058\n",
      "Current Loss on iteration 62 172.19193\n",
      "Current Loss on iteration 63 172.17903\n",
      "Current Loss on iteration 64 172.1673\n",
      "Current Loss on iteration 65 172.15648\n",
      "Current Loss on iteration 66 172.1464\n",
      "Current Loss on iteration 67 172.13725\n",
      "Current Loss on iteration 68 172.12863\n",
      "Current Loss on iteration 69 172.12074\n",
      "Current Loss on iteration 70 172.1136\n",
      "Current Loss on iteration 71 172.10698\n",
      "Current Loss on iteration 72 172.10083\n",
      "Current Loss on iteration 73 172.09515\n",
      "Current Loss on iteration 74 172.08992\n",
      "Current Loss on iteration 75 172.08508\n",
      "Current Loss on iteration 76 172.08072\n",
      "Current Loss on iteration 77 172.0766\n",
      "Current Loss on iteration 78 172.07283\n",
      "Current Loss on iteration 79 172.06938\n",
      "Current Loss on iteration 80 172.06616\n",
      "Current Loss on iteration 81 172.06323\n",
      "Current Loss on iteration 82 172.0605\n",
      "Current Loss on iteration 83 172.05804\n",
      "Current Loss on iteration 84 172.0557\n",
      "Current Loss on iteration 85 172.05357\n",
      "Current Loss on iteration 86 172.05168\n",
      "Current Loss on iteration 87 172.0498\n",
      "Current Loss on iteration 88 172.04817\n",
      "Current Loss on iteration 89 172.0466\n",
      "Current Loss on iteration 90 172.04523\n",
      "Current Loss on iteration 91 172.0439\n",
      "Current Loss on iteration 92 172.0427\n",
      "Current Loss on iteration 93 172.04166\n",
      "Current Loss on iteration 94 172.04057\n",
      "Current Loss on iteration 95 172.03966\n",
      "Current Loss on iteration 96 172.03876\n",
      "Current Loss on iteration 97 172.038\n",
      "Current Loss on iteration 98 172.0372\n",
      "Current Loss on iteration 99 172.03654\n"
     ]
    }
   ],
   "source": [
    "for i in range(100):\n",
    "    \n",
    "    w, b = train(x_train, y_train, w, b)\n",
    "    print('Current Loss on iteration', i, loss(y_train, prediction(x_train, w, b)).numpy())"
   ]
  },
  {
   "cell_type": "markdown",
   "metadata": {
    "colab_type": "text",
    "id": "DOL2ncA1OB7q"
   },
   "source": [
    "### Get the shapes and values of W and b"
   ]
  },
  {
   "cell_type": "code",
   "execution_count": 30,
   "metadata": {
    "colab": {},
    "colab_type": "code",
    "id": "ZGvtyTeuOB7r"
   },
   "outputs": [
    {
     "name": "stdout",
     "output_type": "stream",
     "text": [
      "Weights:\n",
      " [[1.2978185]\n",
      " [1.3030543]\n",
      " [1.2847368]\n",
      " [1.3140031]]\n",
      "Bias:\n",
      " [2.599959]\n"
     ]
    }
   ],
   "source": [
    "print('Weights:\\n', w.numpy())\n",
    "print('Bias:\\n',b.numpy())"
   ]
  },
  {
   "cell_type": "code",
   "execution_count": 31,
   "metadata": {
    "colab": {},
    "colab_type": "code",
    "id": "vhDtOv5UOB7x"
   },
   "outputs": [],
   "source": [
    "xt1 = [x_test[1]]"
   ]
  },
  {
   "cell_type": "markdown",
   "metadata": {
    "colab_type": "text",
    "id": "ERq9GOKKciho"
   },
   "source": [
    "### Model Prediction on 1st Examples in Test Dataset"
   ]
  },
  {
   "cell_type": "code",
   "execution_count": 32,
   "metadata": {
    "colab": {},
    "colab_type": "code",
    "id": "gKGvUWahcihp"
   },
   "outputs": [],
   "source": [
    "y_predict = prediction(xt1,w,b)"
   ]
  },
  {
   "cell_type": "code",
   "execution_count": 33,
   "metadata": {},
   "outputs": [
    {
     "data": {
      "text/plain": [
       "<tf.Tensor: id=5113, shape=(1, 1), dtype=float32, numpy=array([[5.199538]], dtype=float32)>"
      ]
     },
     "execution_count": 33,
     "metadata": {},
     "output_type": "execute_result"
    }
   ],
   "source": [
    "y_predict"
   ]
  },
  {
   "cell_type": "markdown",
   "metadata": {
    "colab_type": "text",
    "id": "YJRBuqXhOB7_"
   },
   "source": [
    "## Classification using tf.Keras\n",
    "\n",
    "In this exercise, we will build a Deep Neural Network using tf.Keras. We will use Iris Dataset for this exercise."
   ]
  },
  {
   "cell_type": "markdown",
   "metadata": {
    "colab_type": "text",
    "id": "O0g6lorycihf"
   },
   "source": [
    "### Load the given Iris data using pandas (Iris.csv)"
   ]
  },
  {
   "cell_type": "code",
   "execution_count": 34,
   "metadata": {
    "colab": {},
    "colab_type": "code",
    "id": "6xFvb5sRcihg"
   },
   "outputs": [],
   "source": [
    "iris = pd.read_csv('Iris.csv')"
   ]
  },
  {
   "cell_type": "code",
   "execution_count": 35,
   "metadata": {},
   "outputs": [
    {
     "data": {
      "text/html": [
       "<div>\n",
       "<style scoped>\n",
       "    .dataframe tbody tr th:only-of-type {\n",
       "        vertical-align: middle;\n",
       "    }\n",
       "\n",
       "    .dataframe tbody tr th {\n",
       "        vertical-align: top;\n",
       "    }\n",
       "\n",
       "    .dataframe thead th {\n",
       "        text-align: right;\n",
       "    }\n",
       "</style>\n",
       "<table border=\"1\" class=\"dataframe\">\n",
       "  <thead>\n",
       "    <tr style=\"text-align: right;\">\n",
       "      <th></th>\n",
       "      <th>Id</th>\n",
       "      <th>SepalLengthCm</th>\n",
       "      <th>SepalWidthCm</th>\n",
       "      <th>PetalLengthCm</th>\n",
       "      <th>PetalWidthCm</th>\n",
       "      <th>Species</th>\n",
       "    </tr>\n",
       "  </thead>\n",
       "  <tbody>\n",
       "    <tr>\n",
       "      <th>0</th>\n",
       "      <td>1</td>\n",
       "      <td>5.1</td>\n",
       "      <td>3.5</td>\n",
       "      <td>1.4</td>\n",
       "      <td>0.2</td>\n",
       "      <td>Iris-setosa</td>\n",
       "    </tr>\n",
       "    <tr>\n",
       "      <th>1</th>\n",
       "      <td>2</td>\n",
       "      <td>4.9</td>\n",
       "      <td>3.0</td>\n",
       "      <td>1.4</td>\n",
       "      <td>0.2</td>\n",
       "      <td>Iris-setosa</td>\n",
       "    </tr>\n",
       "    <tr>\n",
       "      <th>2</th>\n",
       "      <td>3</td>\n",
       "      <td>4.7</td>\n",
       "      <td>3.2</td>\n",
       "      <td>1.3</td>\n",
       "      <td>0.2</td>\n",
       "      <td>Iris-setosa</td>\n",
       "    </tr>\n",
       "    <tr>\n",
       "      <th>3</th>\n",
       "      <td>4</td>\n",
       "      <td>4.6</td>\n",
       "      <td>3.1</td>\n",
       "      <td>1.5</td>\n",
       "      <td>0.2</td>\n",
       "      <td>Iris-setosa</td>\n",
       "    </tr>\n",
       "    <tr>\n",
       "      <th>4</th>\n",
       "      <td>5</td>\n",
       "      <td>5.0</td>\n",
       "      <td>3.6</td>\n",
       "      <td>1.4</td>\n",
       "      <td>0.2</td>\n",
       "      <td>Iris-setosa</td>\n",
       "    </tr>\n",
       "  </tbody>\n",
       "</table>\n",
       "</div>"
      ],
      "text/plain": [
       "   Id  SepalLengthCm  SepalWidthCm  PetalLengthCm  PetalWidthCm      Species\n",
       "0   1            5.1           3.5            1.4           0.2  Iris-setosa\n",
       "1   2            4.9           3.0            1.4           0.2  Iris-setosa\n",
       "2   3            4.7           3.2            1.3           0.2  Iris-setosa\n",
       "3   4            4.6           3.1            1.5           0.2  Iris-setosa\n",
       "4   5            5.0           3.6            1.4           0.2  Iris-setosa"
      ]
     },
     "execution_count": 35,
     "metadata": {},
     "output_type": "execute_result"
    }
   ],
   "source": [
    "iris.head()"
   ]
  },
  {
   "cell_type": "code",
   "execution_count": 36,
   "metadata": {},
   "outputs": [
    {
     "data": {
      "text/plain": [
       "array(['Iris-setosa', 'Iris-versicolor', 'Iris-virginica'], dtype=object)"
      ]
     },
     "execution_count": 36,
     "metadata": {},
     "output_type": "execute_result"
    }
   ],
   "source": [
    "iris.Species.unique()"
   ]
  },
  {
   "cell_type": "markdown",
   "metadata": {
    "colab_type": "text",
    "id": "SAB--Qdwcihm"
   },
   "source": [
    "### Target set has different categories. So, Label encode them. And convert into one-hot vectors using get_dummies in pandas."
   ]
  },
  {
   "cell_type": "code",
   "execution_count": 37,
   "metadata": {
    "colab": {},
    "colab_type": "code",
    "id": "IJr5dYnocihm"
   },
   "outputs": [],
   "source": [
    "from sklearn.preprocessing import LabelEncoder\n",
    "le = LabelEncoder()\n",
    "iris['Species'] = le.fit_transform(iris.Species)"
   ]
  },
  {
   "cell_type": "code",
   "execution_count": 38,
   "metadata": {},
   "outputs": [
    {
     "data": {
      "text/html": [
       "<div>\n",
       "<style scoped>\n",
       "    .dataframe tbody tr th:only-of-type {\n",
       "        vertical-align: middle;\n",
       "    }\n",
       "\n",
       "    .dataframe tbody tr th {\n",
       "        vertical-align: top;\n",
       "    }\n",
       "\n",
       "    .dataframe thead th {\n",
       "        text-align: right;\n",
       "    }\n",
       "</style>\n",
       "<table border=\"1\" class=\"dataframe\">\n",
       "  <thead>\n",
       "    <tr style=\"text-align: right;\">\n",
       "      <th></th>\n",
       "      <th>Id</th>\n",
       "      <th>SepalLengthCm</th>\n",
       "      <th>SepalWidthCm</th>\n",
       "      <th>PetalLengthCm</th>\n",
       "      <th>PetalWidthCm</th>\n",
       "      <th>Species</th>\n",
       "    </tr>\n",
       "  </thead>\n",
       "  <tbody>\n",
       "    <tr>\n",
       "      <th>0</th>\n",
       "      <td>1</td>\n",
       "      <td>5.1</td>\n",
       "      <td>3.5</td>\n",
       "      <td>1.4</td>\n",
       "      <td>0.2</td>\n",
       "      <td>0</td>\n",
       "    </tr>\n",
       "    <tr>\n",
       "      <th>1</th>\n",
       "      <td>2</td>\n",
       "      <td>4.9</td>\n",
       "      <td>3.0</td>\n",
       "      <td>1.4</td>\n",
       "      <td>0.2</td>\n",
       "      <td>0</td>\n",
       "    </tr>\n",
       "    <tr>\n",
       "      <th>2</th>\n",
       "      <td>3</td>\n",
       "      <td>4.7</td>\n",
       "      <td>3.2</td>\n",
       "      <td>1.3</td>\n",
       "      <td>0.2</td>\n",
       "      <td>0</td>\n",
       "    </tr>\n",
       "    <tr>\n",
       "      <th>3</th>\n",
       "      <td>4</td>\n",
       "      <td>4.6</td>\n",
       "      <td>3.1</td>\n",
       "      <td>1.5</td>\n",
       "      <td>0.2</td>\n",
       "      <td>0</td>\n",
       "    </tr>\n",
       "    <tr>\n",
       "      <th>4</th>\n",
       "      <td>5</td>\n",
       "      <td>5.0</td>\n",
       "      <td>3.6</td>\n",
       "      <td>1.4</td>\n",
       "      <td>0.2</td>\n",
       "      <td>0</td>\n",
       "    </tr>\n",
       "  </tbody>\n",
       "</table>\n",
       "</div>"
      ],
      "text/plain": [
       "   Id  SepalLengthCm  SepalWidthCm  PetalLengthCm  PetalWidthCm  Species\n",
       "0   1            5.1           3.5            1.4           0.2        0\n",
       "1   2            4.9           3.0            1.4           0.2        0\n",
       "2   3            4.7           3.2            1.3           0.2        0\n",
       "3   4            4.6           3.1            1.5           0.2        0\n",
       "4   5            5.0           3.6            1.4           0.2        0"
      ]
     },
     "execution_count": 38,
     "metadata": {},
     "output_type": "execute_result"
    }
   ],
   "source": [
    "iris.head()"
   ]
  },
  {
   "cell_type": "code",
   "execution_count": 39,
   "metadata": {},
   "outputs": [],
   "source": [
    "dummy = pd.get_dummies(iris.Species)\n",
    "iris1 = pd.concat([iris,dummy], axis=1)"
   ]
  },
  {
   "cell_type": "code",
   "execution_count": 40,
   "metadata": {},
   "outputs": [],
   "source": [
    "iris1.drop('Species',axis=1,inplace=True)"
   ]
  },
  {
   "cell_type": "code",
   "execution_count": 41,
   "metadata": {},
   "outputs": [],
   "source": [
    "iris1.drop('Id', axis=1,inplace=True)"
   ]
  },
  {
   "cell_type": "code",
   "execution_count": 42,
   "metadata": {},
   "outputs": [
    {
     "data": {
      "text/html": [
       "<div>\n",
       "<style scoped>\n",
       "    .dataframe tbody tr th:only-of-type {\n",
       "        vertical-align: middle;\n",
       "    }\n",
       "\n",
       "    .dataframe tbody tr th {\n",
       "        vertical-align: top;\n",
       "    }\n",
       "\n",
       "    .dataframe thead th {\n",
       "        text-align: right;\n",
       "    }\n",
       "</style>\n",
       "<table border=\"1\" class=\"dataframe\">\n",
       "  <thead>\n",
       "    <tr style=\"text-align: right;\">\n",
       "      <th></th>\n",
       "      <th>SepalLengthCm</th>\n",
       "      <th>SepalWidthCm</th>\n",
       "      <th>PetalLengthCm</th>\n",
       "      <th>PetalWidthCm</th>\n",
       "      <th>0</th>\n",
       "      <th>1</th>\n",
       "      <th>2</th>\n",
       "    </tr>\n",
       "  </thead>\n",
       "  <tbody>\n",
       "    <tr>\n",
       "      <th>0</th>\n",
       "      <td>5.1</td>\n",
       "      <td>3.5</td>\n",
       "      <td>1.4</td>\n",
       "      <td>0.2</td>\n",
       "      <td>1</td>\n",
       "      <td>0</td>\n",
       "      <td>0</td>\n",
       "    </tr>\n",
       "    <tr>\n",
       "      <th>1</th>\n",
       "      <td>4.9</td>\n",
       "      <td>3.0</td>\n",
       "      <td>1.4</td>\n",
       "      <td>0.2</td>\n",
       "      <td>1</td>\n",
       "      <td>0</td>\n",
       "      <td>0</td>\n",
       "    </tr>\n",
       "    <tr>\n",
       "      <th>2</th>\n",
       "      <td>4.7</td>\n",
       "      <td>3.2</td>\n",
       "      <td>1.3</td>\n",
       "      <td>0.2</td>\n",
       "      <td>1</td>\n",
       "      <td>0</td>\n",
       "      <td>0</td>\n",
       "    </tr>\n",
       "    <tr>\n",
       "      <th>3</th>\n",
       "      <td>4.6</td>\n",
       "      <td>3.1</td>\n",
       "      <td>1.5</td>\n",
       "      <td>0.2</td>\n",
       "      <td>1</td>\n",
       "      <td>0</td>\n",
       "      <td>0</td>\n",
       "    </tr>\n",
       "    <tr>\n",
       "      <th>4</th>\n",
       "      <td>5.0</td>\n",
       "      <td>3.6</td>\n",
       "      <td>1.4</td>\n",
       "      <td>0.2</td>\n",
       "      <td>1</td>\n",
       "      <td>0</td>\n",
       "      <td>0</td>\n",
       "    </tr>\n",
       "  </tbody>\n",
       "</table>\n",
       "</div>"
      ],
      "text/plain": [
       "   SepalLengthCm  SepalWidthCm  PetalLengthCm  PetalWidthCm  0  1  2\n",
       "0            5.1           3.5            1.4           0.2  1  0  0\n",
       "1            4.9           3.0            1.4           0.2  1  0  0\n",
       "2            4.7           3.2            1.3           0.2  1  0  0\n",
       "3            4.6           3.1            1.5           0.2  1  0  0\n",
       "4            5.0           3.6            1.4           0.2  1  0  0"
      ]
     },
     "execution_count": 42,
     "metadata": {},
     "output_type": "execute_result"
    }
   ],
   "source": [
    "iris1.head(5)"
   ]
  },
  {
   "cell_type": "markdown",
   "metadata": {
    "colab_type": "text",
    "id": "D95nY5ILcihj"
   },
   "source": [
    "### Splitting the data into feature set and target set"
   ]
  },
  {
   "cell_type": "code",
   "execution_count": 43,
   "metadata": {
    "colab": {},
    "colab_type": "code",
    "id": "RyMQoLMucihj"
   },
   "outputs": [
    {
     "data": {
      "text/plain": [
       "(150, 4)"
      ]
     },
     "execution_count": 43,
     "metadata": {},
     "output_type": "execute_result"
    }
   ],
   "source": [
    "x = iris1.iloc[: ,0:4]\n",
    "y = iris1.iloc[:,4:7]\n",
    "x.shape"
   ]
  },
  {
   "cell_type": "code",
   "execution_count": 44,
   "metadata": {},
   "outputs": [
    {
     "data": {
      "text/plain": [
       "(150, 3)"
      ]
     },
     "execution_count": 44,
     "metadata": {},
     "output_type": "execute_result"
    }
   ],
   "source": [
    "y.shape"
   ]
  },
  {
   "cell_type": "markdown",
   "metadata": {
    "colab_type": "text",
    "id": "b22qpC5xcihr"
   },
   "source": [
    "###  Building Model in tf.keras\n",
    "\n",
    "Build a Linear Classifier model  <br>\n",
    "1.  Use Dense Layer  with input shape of 4 (according to the feature set) and number of outputs set to 3<br> \n",
    "2. Apply Softmax on Dense Layer outputs <br>\n",
    "3. Use SGD as Optimizer\n",
    "4. Use categorical_crossentropy as loss function "
   ]
  },
  {
   "cell_type": "code",
   "execution_count": 45,
   "metadata": {
    "colab": {},
    "colab_type": "code",
    "id": "Hov_UFnUciht"
   },
   "outputs": [],
   "source": [
    "#Initialize Sequential model\n",
    "model = tf.keras.models.Sequential()\n",
    "\n",
    "#Reshape data from 2D to 1D -> 28x28 to 784\n",
    "#model.add(tf.keras.layers.Reshape((784,),input_shape=(28,28,)))\n",
    "\n",
    "#Normalize the data\n",
    "model.add(tf.keras.layers.BatchNormalization())\n",
    "\n",
    "#Add Dense Layer which provides 10 Outputs after applying softmax\n",
    "model.add(tf.keras.layers.Dense(3,input_shape=(4,), activation='softmax'))\n",
    "\n",
    "#Comile the model\n",
    "model.compile(optimizer='sgd', loss='categorical_crossentropy', metrics=['accuracy'])"
   ]
  },
  {
   "cell_type": "markdown",
   "metadata": {
    "colab_type": "text",
    "id": "T5FdzqIKcihw"
   },
   "source": [
    "### Model Training "
   ]
  },
  {
   "cell_type": "code",
   "execution_count": 46,
   "metadata": {},
   "outputs": [],
   "source": [
    "import numpy as np"
   ]
  },
  {
   "cell_type": "code",
   "execution_count": 47,
   "metadata": {
    "colab": {},
    "colab_type": "code",
    "id": "4qLEdHPscihx"
   },
   "outputs": [],
   "source": [
    "x_train, x_test, y_train, y_test = train_test_split(x,y,test_size=0.3,random_state=3)\n",
    "\n",
    "x_train = x_train.astype('float32')\n",
    "y_train = y_train.astype('float32')\n",
    "x_test = x_test.astype('float32')\n",
    "y_test = y_test.astype('float32')"
   ]
  },
  {
   "cell_type": "code",
   "execution_count": 48,
   "metadata": {},
   "outputs": [],
   "source": [
    "x_train = np.array(x_train)\n",
    "x_test = np.array(x_test)\n",
    "y_train = np.array(y_train)\n",
    "y_test = np.array(y_test)"
   ]
  },
  {
   "cell_type": "code",
   "execution_count": 49,
   "metadata": {},
   "outputs": [
    {
     "data": {
      "text/plain": [
       "array([[1., 0., 0.],\n",
       "       [1., 0., 0.],\n",
       "       [1., 0., 0.],\n",
       "       [1., 0., 0.],\n",
       "       [1., 0., 0.],\n",
       "       [0., 0., 1.],\n",
       "       [0., 1., 0.],\n",
       "       [1., 0., 0.],\n",
       "       [0., 0., 1.],\n",
       "       [0., 1., 0.],\n",
       "       [0., 1., 0.],\n",
       "       [1., 0., 0.],\n",
       "       [0., 1., 0.],\n",
       "       [0., 1., 0.],\n",
       "       [0., 0., 1.],\n",
       "       [1., 0., 0.],\n",
       "       [0., 1., 0.],\n",
       "       [0., 0., 1.],\n",
       "       [0., 0., 1.],\n",
       "       [1., 0., 0.],\n",
       "       [0., 0., 1.],\n",
       "       [0., 0., 1.],\n",
       "       [0., 0., 1.],\n",
       "       [0., 1., 0.],\n",
       "       [1., 0., 0.],\n",
       "       [0., 0., 1.],\n",
       "       [0., 0., 1.],\n",
       "       [0., 1., 0.],\n",
       "       [0., 1., 0.],\n",
       "       [0., 1., 0.],\n",
       "       [1., 0., 0.],\n",
       "       [1., 0., 0.],\n",
       "       [0., 0., 1.],\n",
       "       [0., 1., 0.],\n",
       "       [1., 0., 0.],\n",
       "       [1., 0., 0.],\n",
       "       [0., 1., 0.],\n",
       "       [1., 0., 0.],\n",
       "       [0., 0., 1.],\n",
       "       [0., 1., 0.],\n",
       "       [0., 0., 1.],\n",
       "       [0., 1., 0.],\n",
       "       [1., 0., 0.],\n",
       "       [1., 0., 0.],\n",
       "       [0., 0., 1.]], dtype=float32)"
      ]
     },
     "execution_count": 49,
     "metadata": {},
     "output_type": "execute_result"
    }
   ],
   "source": [
    "y_test"
   ]
  },
  {
   "cell_type": "code",
   "execution_count": 50,
   "metadata": {},
   "outputs": [
    {
     "data": {
      "text/plain": [
       "array([[0., 1., 0.],\n",
       "       [1., 0., 0.],\n",
       "       [0., 1., 0.],\n",
       "       [0., 0., 1.],\n",
       "       [0., 1., 0.],\n",
       "       [1., 0., 0.],\n",
       "       [1., 0., 0.],\n",
       "       [0., 0., 1.],\n",
       "       [0., 1., 0.],\n",
       "       [0., 1., 0.],\n",
       "       [1., 0., 0.],\n",
       "       [0., 0., 1.],\n",
       "       [1., 0., 0.],\n",
       "       [0., 0., 1.],\n",
       "       [0., 1., 0.],\n",
       "       [1., 0., 0.],\n",
       "       [1., 0., 0.],\n",
       "       [0., 0., 1.],\n",
       "       [0., 1., 0.],\n",
       "       [1., 0., 0.],\n",
       "       [1., 0., 0.],\n",
       "       [0., 1., 0.],\n",
       "       [0., 0., 1.],\n",
       "       [0., 0., 1.],\n",
       "       [1., 0., 0.],\n",
       "       [0., 0., 1.],\n",
       "       [0., 1., 0.],\n",
       "       [1., 0., 0.],\n",
       "       [1., 0., 0.],\n",
       "       [0., 0., 1.],\n",
       "       [0., 0., 1.],\n",
       "       [0., 0., 1.],\n",
       "       [0., 1., 0.],\n",
       "       [0., 1., 0.],\n",
       "       [0., 1., 0.],\n",
       "       [1., 0., 0.],\n",
       "       [1., 0., 0.],\n",
       "       [0., 0., 1.],\n",
       "       [0., 0., 1.],\n",
       "       [0., 1., 0.],\n",
       "       [0., 0., 1.],\n",
       "       [0., 1., 0.],\n",
       "       [0., 0., 1.],\n",
       "       [1., 0., 0.],\n",
       "       [0., 0., 1.],\n",
       "       [1., 0., 0.],\n",
       "       [0., 1., 0.],\n",
       "       [0., 1., 0.],\n",
       "       [0., 0., 1.],\n",
       "       [0., 0., 1.],\n",
       "       [1., 0., 0.],\n",
       "       [0., 1., 0.],\n",
       "       [1., 0., 0.],\n",
       "       [0., 1., 0.],\n",
       "       [0., 1., 0.],\n",
       "       [0., 1., 0.],\n",
       "       [1., 0., 0.],\n",
       "       [0., 0., 1.],\n",
       "       [1., 0., 0.],\n",
       "       [0., 0., 1.],\n",
       "       [0., 1., 0.],\n",
       "       [0., 0., 1.],\n",
       "       [0., 1., 0.],\n",
       "       [0., 0., 1.],\n",
       "       [0., 1., 0.],\n",
       "       [1., 0., 0.],\n",
       "       [0., 0., 1.],\n",
       "       [0., 1., 0.],\n",
       "       [0., 0., 1.],\n",
       "       [0., 1., 0.],\n",
       "       [1., 0., 0.],\n",
       "       [0., 1., 0.],\n",
       "       [0., 0., 1.],\n",
       "       [1., 0., 0.],\n",
       "       [0., 1., 0.],\n",
       "       [1., 0., 0.],\n",
       "       [1., 0., 0.],\n",
       "       [1., 0., 0.],\n",
       "       [0., 1., 0.],\n",
       "       [0., 0., 1.],\n",
       "       [1., 0., 0.],\n",
       "       [1., 0., 0.],\n",
       "       [0., 0., 1.],\n",
       "       [1., 0., 0.],\n",
       "       [0., 1., 0.],\n",
       "       [0., 0., 1.],\n",
       "       [0., 1., 0.],\n",
       "       [0., 0., 1.],\n",
       "       [0., 0., 1.],\n",
       "       [0., 1., 0.],\n",
       "       [0., 1., 0.],\n",
       "       [0., 0., 1.],\n",
       "       [0., 1., 0.],\n",
       "       [1., 0., 0.],\n",
       "       [0., 1., 0.],\n",
       "       [0., 1., 0.],\n",
       "       [1., 0., 0.],\n",
       "       [0., 1., 0.],\n",
       "       [0., 0., 1.],\n",
       "       [0., 0., 1.],\n",
       "       [0., 0., 1.],\n",
       "       [1., 0., 0.],\n",
       "       [1., 0., 0.],\n",
       "       [0., 0., 1.],\n",
       "       [0., 0., 1.]], dtype=float32)"
      ]
     },
     "execution_count": 50,
     "metadata": {},
     "output_type": "execute_result"
    }
   ],
   "source": [
    "y_train"
   ]
  },
  {
   "cell_type": "markdown",
   "metadata": {
    "colab_type": "text",
    "id": "y-SgSSdRcih5"
   },
   "source": []
  },
  {
   "cell_type": "code",
   "execution_count": 51,
   "metadata": {
    "colab": {},
    "colab_type": "code",
    "id": "GBgKZkhkcih6"
   },
   "outputs": [
    {
     "name": "stdout",
     "output_type": "stream",
     "text": [
      "WARNING:tensorflow:From C:\\ProgramData\\Anaconda3\\lib\\site-packages\\tensorflow\\python\\ops\\control_flow_ops.py:423: colocate_with (from tensorflow.python.framework.ops) is deprecated and will be removed in a future version.\n",
      "Instructions for updating:\n",
      "Colocations handled automatically by placer.\n",
      "Train on 105 samples, validate on 45 samples\n",
      "WARNING:tensorflow:From C:\\ProgramData\\Anaconda3\\lib\\site-packages\\tensorflow\\python\\ops\\math_ops.py:3066: to_int32 (from tensorflow.python.ops.math_ops) is deprecated and will be removed in a future version.\n",
      "Instructions for updating:\n",
      "Use tf.cast instead.\n",
      "Epoch 1/100\n",
      "105/105 [==============================] - 0s 2ms/sample - loss: 2.4440 - acc: 0.0381 - val_loss: 4.0536 - val_acc: 0.0222\n",
      "Epoch 2/100\n",
      "105/105 [==============================] - 0s 149us/sample - loss: 2.2948 - acc: 0.0190 - val_loss: 3.6743 - val_acc: 0.0222\n",
      "Epoch 3/100\n",
      "105/105 [==============================] - 0s 149us/sample - loss: 2.2170 - acc: 0.0190 - val_loss: 3.3436 - val_acc: 0.0222\n",
      "Epoch 4/100\n",
      "105/105 [==============================] - 0s 149us/sample - loss: 2.1065 - acc: 0.0286 - val_loss: 3.0481 - val_acc: 0.0000e+00\n",
      "Epoch 5/100\n",
      "105/105 [==============================] - 0s 0s/sample - loss: 1.9978 - acc: 0.0286 - val_loss: 2.8065 - val_acc: 0.0000e+00\n",
      "Epoch 6/100\n",
      "105/105 [==============================] - 0s 149us/sample - loss: 1.9012 - acc: 0.0571 - val_loss: 2.5810 - val_acc: 0.0000e+00\n",
      "Epoch 7/100\n",
      "105/105 [==============================] - 0s 149us/sample - loss: 1.8295 - acc: 0.0571 - val_loss: 2.3828 - val_acc: 0.0000e+00\n",
      "Epoch 8/100\n",
      "105/105 [==============================] - 0s 149us/sample - loss: 1.7499 - acc: 0.0762 - val_loss: 2.2203 - val_acc: 0.0000e+00\n",
      "Epoch 9/100\n",
      "105/105 [==============================] - 0s 149us/sample - loss: 1.6775 - acc: 0.0857 - val_loss: 2.0780 - val_acc: 0.0000e+00\n",
      "Epoch 10/100\n",
      "105/105 [==============================] - 0s 149us/sample - loss: 1.6303 - acc: 0.1238 - val_loss: 1.9457 - val_acc: 0.0222\n",
      "Epoch 11/100\n",
      "105/105 [==============================] - 0s 149us/sample - loss: 1.5625 - acc: 0.1238 - val_loss: 1.8295 - val_acc: 0.0444\n",
      "Epoch 12/100\n",
      "105/105 [==============================] - 0s 149us/sample - loss: 1.5066 - acc: 0.1524 - val_loss: 1.7240 - val_acc: 0.0889\n",
      "Epoch 13/100\n",
      "105/105 [==============================] - 0s 149us/sample - loss: 1.4486 - acc: 0.1524 - val_loss: 1.6331 - val_acc: 0.1333\n",
      "Epoch 14/100\n",
      "105/105 [==============================] - 0s 0s/sample - loss: 1.3962 - acc: 0.1524 - val_loss: 1.5452 - val_acc: 0.2222\n",
      "Epoch 15/100\n",
      "105/105 [==============================] - 0s 149us/sample - loss: 1.3565 - acc: 0.1810 - val_loss: 1.4690 - val_acc: 0.2444\n",
      "Epoch 16/100\n",
      "105/105 [==============================] - 0s 149us/sample - loss: 1.3038 - acc: 0.2286 - val_loss: 1.4009 - val_acc: 0.2667\n",
      "Epoch 17/100\n",
      "105/105 [==============================] - 0s 149us/sample - loss: 1.2658 - acc: 0.2476 - val_loss: 1.3403 - val_acc: 0.2889\n",
      "Epoch 18/100\n",
      "105/105 [==============================] - 0s 149us/sample - loss: 1.2292 - acc: 0.2667 - val_loss: 1.2813 - val_acc: 0.2889\n",
      "Epoch 19/100\n",
      "105/105 [==============================] - 0s 149us/sample - loss: 1.1834 - acc: 0.2762 - val_loss: 1.2297 - val_acc: 0.2889\n",
      "Epoch 20/100\n",
      "105/105 [==============================] - 0s 0s/sample - loss: 1.1525 - acc: 0.2857 - val_loss: 1.1833 - val_acc: 0.3111\n",
      "Epoch 21/100\n",
      "105/105 [==============================] - 0s 149us/sample - loss: 1.1138 - acc: 0.3238 - val_loss: 1.1432 - val_acc: 0.3111\n",
      "Epoch 22/100\n",
      "105/105 [==============================] - 0s 149us/sample - loss: 1.0916 - acc: 0.3333 - val_loss: 1.1059 - val_acc: 0.3111\n",
      "Epoch 23/100\n",
      "105/105 [==============================] - 0s 148us/sample - loss: 1.0538 - acc: 0.4095 - val_loss: 1.0689 - val_acc: 0.3333\n",
      "Epoch 24/100\n",
      "105/105 [==============================] - 0s 149us/sample - loss: 1.0315 - acc: 0.4476 - val_loss: 1.0361 - val_acc: 0.3333\n",
      "Epoch 25/100\n",
      "105/105 [==============================] - 0s 149us/sample - loss: 1.0040 - acc: 0.4476 - val_loss: 1.0051 - val_acc: 0.3556\n",
      "Epoch 26/100\n",
      "105/105 [==============================] - 0s 149us/sample - loss: 0.9808 - acc: 0.4762 - val_loss: 0.9757 - val_acc: 0.3778\n",
      "Epoch 27/100\n",
      "105/105 [==============================] - 0s 149us/sample - loss: 0.9616 - acc: 0.4952 - val_loss: 0.9481 - val_acc: 0.4000\n",
      "Epoch 28/100\n",
      "105/105 [==============================] - 0s 149us/sample - loss: 0.9357 - acc: 0.5429 - val_loss: 0.9228 - val_acc: 0.4444\n",
      "Epoch 29/100\n",
      "105/105 [==============================] - 0s 149us/sample - loss: 0.9106 - acc: 0.5714 - val_loss: 0.8990 - val_acc: 0.4667\n",
      "Epoch 30/100\n",
      "105/105 [==============================] - 0s 149us/sample - loss: 0.8932 - acc: 0.5810 - val_loss: 0.8759 - val_acc: 0.5556\n",
      "Epoch 31/100\n",
      "105/105 [==============================] - 0s 149us/sample - loss: 0.8784 - acc: 0.5905 - val_loss: 0.8555 - val_acc: 0.6667\n",
      "Epoch 32/100\n",
      "105/105 [==============================] - 0s 149us/sample - loss: 0.8597 - acc: 0.6571 - val_loss: 0.8348 - val_acc: 0.6889\n",
      "Epoch 33/100\n",
      "105/105 [==============================] - 0s 149us/sample - loss: 0.8521 - acc: 0.6476 - val_loss: 0.8155 - val_acc: 0.7111\n",
      "Epoch 34/100\n",
      "105/105 [==============================] - 0s 149us/sample - loss: 0.8274 - acc: 0.6667 - val_loss: 0.7985 - val_acc: 0.6889\n",
      "Epoch 35/100\n",
      "105/105 [==============================] - 0s 0s/sample - loss: 0.8116 - acc: 0.6667 - val_loss: 0.7818 - val_acc: 0.8222\n",
      "Epoch 36/100\n",
      "105/105 [==============================] - 0s 0s/sample - loss: 0.8071 - acc: 0.6762 - val_loss: 0.7655 - val_acc: 0.8444\n",
      "Epoch 37/100\n",
      "105/105 [==============================] - 0s 0s/sample - loss: 0.7861 - acc: 0.6762 - val_loss: 0.7499 - val_acc: 0.8444\n",
      "Epoch 38/100\n",
      "105/105 [==============================] - 0s 149us/sample - loss: 0.7716 - acc: 0.6667 - val_loss: 0.7353 - val_acc: 0.8444\n",
      "Epoch 39/100\n",
      "105/105 [==============================] - 0s 0s/sample - loss: 0.7802 - acc: 0.6667 - val_loss: 0.7220 - val_acc: 0.8444\n",
      "Epoch 40/100\n",
      "105/105 [==============================] - 0s 149us/sample - loss: 0.7559 - acc: 0.6952 - val_loss: 0.7089 - val_acc: 0.8667\n",
      "Epoch 41/100\n",
      "105/105 [==============================] - 0s 149us/sample - loss: 0.7572 - acc: 0.6952 - val_loss: 0.6963 - val_acc: 0.8667\n",
      "Epoch 42/100\n",
      "105/105 [==============================] - 0s 149us/sample - loss: 0.7308 - acc: 0.6857 - val_loss: 0.6843 - val_acc: 0.8222\n",
      "Epoch 43/100\n",
      "105/105 [==============================] - 0s 0s/sample - loss: 0.7324 - acc: 0.6952 - val_loss: 0.6731 - val_acc: 0.8444\n",
      "Epoch 44/100\n",
      "105/105 [==============================] - 0s 149us/sample - loss: 0.7223 - acc: 0.6762 - val_loss: 0.6620 - val_acc: 0.8444\n",
      "Epoch 45/100\n",
      "105/105 [==============================] - 0s 149us/sample - loss: 0.7121 - acc: 0.7048 - val_loss: 0.6521 - val_acc: 0.8444\n",
      "Epoch 46/100\n",
      "105/105 [==============================] - 0s 0s/sample - loss: 0.6978 - acc: 0.6857 - val_loss: 0.6425 - val_acc: 0.8444\n",
      "Epoch 47/100\n",
      "105/105 [==============================] - 0s 149us/sample - loss: 0.6788 - acc: 0.6762 - val_loss: 0.6335 - val_acc: 0.8444\n",
      "Epoch 48/100\n",
      "105/105 [==============================] - 0s 149us/sample - loss: 0.6722 - acc: 0.6952 - val_loss: 0.6246 - val_acc: 0.8000\n",
      "Epoch 49/100\n",
      "105/105 [==============================] - 0s 0s/sample - loss: 0.6682 - acc: 0.6952 - val_loss: 0.6160 - val_acc: 0.8000\n",
      "Epoch 50/100\n",
      "105/105 [==============================] - 0s 0s/sample - loss: 0.6801 - acc: 0.6571 - val_loss: 0.6074 - val_acc: 0.8000\n",
      "Epoch 51/100\n",
      "105/105 [==============================] - 0s 149us/sample - loss: 0.6492 - acc: 0.6762 - val_loss: 0.5996 - val_acc: 0.7778\n",
      "Epoch 52/100\n",
      "105/105 [==============================] - 0s 149us/sample - loss: 0.6731 - acc: 0.7048 - val_loss: 0.5930 - val_acc: 0.7778\n",
      "Epoch 53/100\n",
      "105/105 [==============================] - 0s 0s/sample - loss: 0.6476 - acc: 0.6857 - val_loss: 0.5861 - val_acc: 0.7778\n",
      "Epoch 54/100\n",
      "105/105 [==============================] - 0s 149us/sample - loss: 0.6334 - acc: 0.6667 - val_loss: 0.5794 - val_acc: 0.7778\n",
      "Epoch 55/100\n",
      "105/105 [==============================] - 0s 149us/sample - loss: 0.6336 - acc: 0.6857 - val_loss: 0.5730 - val_acc: 0.7778\n",
      "Epoch 56/100\n"
     ]
    },
    {
     "name": "stdout",
     "output_type": "stream",
     "text": [
      "105/105 [==============================] - 0s 149us/sample - loss: 0.6359 - acc: 0.6667 - val_loss: 0.5671 - val_acc: 0.7778\n",
      "Epoch 57/100\n",
      "105/105 [==============================] - 0s 0s/sample - loss: 0.6131 - acc: 0.6667 - val_loss: 0.5612 - val_acc: 0.7778\n",
      "Epoch 58/100\n",
      "105/105 [==============================] - 0s 149us/sample - loss: 0.6135 - acc: 0.6952 - val_loss: 0.5553 - val_acc: 0.7778\n",
      "Epoch 59/100\n",
      "105/105 [==============================] - 0s 149us/sample - loss: 0.6041 - acc: 0.7238 - val_loss: 0.5500 - val_acc: 0.7778\n",
      "Epoch 60/100\n",
      "105/105 [==============================] - 0s 0s/sample - loss: 0.6137 - acc: 0.7143 - val_loss: 0.5449 - val_acc: 0.7778\n",
      "Epoch 61/100\n",
      "105/105 [==============================] - 0s 149us/sample - loss: 0.6125 - acc: 0.6762 - val_loss: 0.5394 - val_acc: 0.7778\n",
      "Epoch 62/100\n",
      "105/105 [==============================] - 0s 149us/sample - loss: 0.6115 - acc: 0.7333 - val_loss: 0.5347 - val_acc: 0.7778\n",
      "Epoch 63/100\n",
      "105/105 [==============================] - 0s 0s/sample - loss: 0.5991 - acc: 0.6952 - val_loss: 0.5300 - val_acc: 0.7778\n",
      "Epoch 64/100\n",
      "105/105 [==============================] - 0s 149us/sample - loss: 0.5811 - acc: 0.6857 - val_loss: 0.5252 - val_acc: 0.7778\n",
      "Epoch 65/100\n",
      "105/105 [==============================] - 0s 149us/sample - loss: 0.5746 - acc: 0.6762 - val_loss: 0.5206 - val_acc: 0.7778\n",
      "Epoch 66/100\n",
      "105/105 [==============================] - 0s 0s/sample - loss: 0.5822 - acc: 0.6952 - val_loss: 0.5160 - val_acc: 0.7778\n",
      "Epoch 67/100\n",
      "105/105 [==============================] - 0s 149us/sample - loss: 0.5659 - acc: 0.6952 - val_loss: 0.5119 - val_acc: 0.7556\n",
      "Epoch 68/100\n",
      "105/105 [==============================] - 0s 149us/sample - loss: 0.5617 - acc: 0.7143 - val_loss: 0.5078 - val_acc: 0.8000\n",
      "Epoch 69/100\n",
      "105/105 [==============================] - 0s 0s/sample - loss: 0.5627 - acc: 0.6952 - val_loss: 0.5038 - val_acc: 0.8000\n",
      "Epoch 70/100\n",
      "105/105 [==============================] - 0s 149us/sample - loss: 0.5527 - acc: 0.6952 - val_loss: 0.5000 - val_acc: 0.7778\n",
      "Epoch 71/100\n",
      "105/105 [==============================] - 0s 149us/sample - loss: 0.5620 - acc: 0.6762 - val_loss: 0.4964 - val_acc: 0.7778\n",
      "Epoch 72/100\n",
      "105/105 [==============================] - 0s 149us/sample - loss: 0.5447 - acc: 0.7048 - val_loss: 0.4929 - val_acc: 0.7778\n",
      "Epoch 73/100\n",
      "105/105 [==============================] - 0s 0s/sample - loss: 0.5396 - acc: 0.7048 - val_loss: 0.4895 - val_acc: 0.7778\n",
      "Epoch 74/100\n",
      "105/105 [==============================] - 0s 149us/sample - loss: 0.5522 - acc: 0.7524 - val_loss: 0.4853 - val_acc: 0.7778\n",
      "Epoch 75/100\n",
      "105/105 [==============================] - 0s 149us/sample - loss: 0.5449 - acc: 0.7143 - val_loss: 0.4818 - val_acc: 0.7778\n",
      "Epoch 76/100\n",
      "105/105 [==============================] - 0s 0s/sample - loss: 0.5298 - acc: 0.7524 - val_loss: 0.4786 - val_acc: 0.7778\n",
      "Epoch 77/100\n",
      "105/105 [==============================] - 0s 149us/sample - loss: 0.5465 - acc: 0.7333 - val_loss: 0.4757 - val_acc: 0.7778\n",
      "Epoch 78/100\n",
      "105/105 [==============================] - 0s 149us/sample - loss: 0.5522 - acc: 0.7143 - val_loss: 0.4725 - val_acc: 0.7778\n",
      "Epoch 79/100\n",
      "105/105 [==============================] - 0s 0s/sample - loss: 0.5616 - acc: 0.7524 - val_loss: 0.4698 - val_acc: 0.7778\n",
      "Epoch 80/100\n",
      "105/105 [==============================] - 0s 0s/sample - loss: 0.5251 - acc: 0.7429 - val_loss: 0.4670 - val_acc: 0.7778\n",
      "Epoch 81/100\n",
      "105/105 [==============================] - 0s 149us/sample - loss: 0.5150 - acc: 0.7429 - val_loss: 0.4641 - val_acc: 0.7778\n",
      "Epoch 82/100\n",
      "105/105 [==============================] - 0s 149us/sample - loss: 0.5131 - acc: 0.7333 - val_loss: 0.4612 - val_acc: 0.7778\n",
      "Epoch 83/100\n",
      "105/105 [==============================] - 0s 0s/sample - loss: 0.5173 - acc: 0.8381 - val_loss: 0.4581 - val_acc: 0.7778\n",
      "Epoch 84/100\n",
      "105/105 [==============================] - 0s 149us/sample - loss: 0.5567 - acc: 0.7429 - val_loss: 0.4551 - val_acc: 0.7778\n",
      "Epoch 85/100\n",
      "105/105 [==============================] - 0s 149us/sample - loss: 0.5440 - acc: 0.7524 - val_loss: 0.4524 - val_acc: 0.7778\n",
      "Epoch 86/100\n",
      "105/105 [==============================] - 0s 0s/sample - loss: 0.5033 - acc: 0.7714 - val_loss: 0.4497 - val_acc: 0.7778\n",
      "Epoch 87/100\n",
      "105/105 [==============================] - 0s 149us/sample - loss: 0.5088 - acc: 0.8000 - val_loss: 0.4471 - val_acc: 0.7778\n",
      "Epoch 88/100\n",
      "105/105 [==============================] - 0s 149us/sample - loss: 0.5057 - acc: 0.7524 - val_loss: 0.4447 - val_acc: 0.7778\n",
      "Epoch 89/100\n",
      "105/105 [==============================] - 0s 149us/sample - loss: 0.5014 - acc: 0.7143 - val_loss: 0.4417 - val_acc: 0.7778\n",
      "Epoch 90/100\n",
      "105/105 [==============================] - 0s 0s/sample - loss: 0.5343 - acc: 0.7524 - val_loss: 0.4388 - val_acc: 0.7778\n",
      "Epoch 91/100\n",
      "105/105 [==============================] - 0s 149us/sample - loss: 0.4908 - acc: 0.7524 - val_loss: 0.4366 - val_acc: 0.7778\n",
      "Epoch 92/100\n",
      "105/105 [==============================] - 0s 149us/sample - loss: 0.4932 - acc: 0.7524 - val_loss: 0.4339 - val_acc: 0.8000\n",
      "Epoch 93/100\n",
      "105/105 [==============================] - 0s 149us/sample - loss: 0.4831 - acc: 0.7905 - val_loss: 0.4313 - val_acc: 0.8000\n",
      "Epoch 94/100\n",
      "105/105 [==============================] - 0s 0s/sample - loss: 0.5130 - acc: 0.7619 - val_loss: 0.4290 - val_acc: 0.8000\n",
      "Epoch 95/100\n",
      "105/105 [==============================] - 0s 158us/sample - loss: 0.4979 - acc: 0.7810 - val_loss: 0.4268 - val_acc: 0.8000\n",
      "Epoch 96/100\n",
      "105/105 [==============================] - 0s 149us/sample - loss: 0.4821 - acc: 0.7905 - val_loss: 0.4246 - val_acc: 0.8000\n",
      "Epoch 97/100\n",
      "105/105 [==============================] - 0s 0s/sample - loss: 0.5130 - acc: 0.7810 - val_loss: 0.4226 - val_acc: 0.8000\n",
      "Epoch 98/100\n",
      "105/105 [==============================] - 0s 178us/sample - loss: 0.4839 - acc: 0.7714 - val_loss: 0.4204 - val_acc: 0.8000\n",
      "Epoch 99/100\n",
      "105/105 [==============================] - 0s 0s/sample - loss: 0.4798 - acc: 0.8000 - val_loss: 0.4187 - val_acc: 0.8000\n",
      "Epoch 100/100\n",
      "105/105 [==============================] - 0s 149us/sample - loss: 0.4677 - acc: 0.7905 - val_loss: 0.4167 - val_acc: 0.8000\n"
     ]
    },
    {
     "data": {
      "text/plain": [
       "<tensorflow.python.keras.callbacks.History at 0x1b04bc7deb8>"
      ]
     },
     "execution_count": 51,
     "metadata": {},
     "output_type": "execute_result"
    }
   ],
   "source": [
    "model.fit(x_train, y_train, \n",
    "          validation_data=(x_test, y_test), epochs=100)"
   ]
  },
  {
   "cell_type": "markdown",
   "metadata": {},
   "source": [
    "### Model Prediction"
   ]
  },
  {
   "cell_type": "code",
   "execution_count": 52,
   "metadata": {},
   "outputs": [],
   "source": [
    "xt1 = x_test[0:1]"
   ]
  },
  {
   "cell_type": "code",
   "execution_count": 53,
   "metadata": {},
   "outputs": [
    {
     "data": {
      "text/plain": [
       "array([[0.90091646, 0.08952145, 0.00956201]], dtype=float32)"
      ]
     },
     "execution_count": 53,
     "metadata": {},
     "output_type": "execute_result"
    }
   ],
   "source": [
    "model.predict(xt1)"
   ]
  },
  {
   "cell_type": "code",
   "execution_count": 54,
   "metadata": {},
   "outputs": [
    {
     "data": {
      "text/plain": [
       "array([[1., 0., 0.]], dtype=float32)"
      ]
     },
     "execution_count": 54,
     "metadata": {},
     "output_type": "execute_result"
    }
   ],
   "source": [
    "y_test[0:1]"
   ]
  },
  {
   "cell_type": "markdown",
   "metadata": {
    "colab_type": "text",
    "id": "P32ASP1Vjt0a"
   },
   "source": [
    "### Save the Model"
   ]
  },
  {
   "cell_type": "code",
   "execution_count": 55,
   "metadata": {},
   "outputs": [
    {
     "name": "stdout",
     "output_type": "stream",
     "text": [
      "_________________________________________________________________\n",
      "Layer (type)                 Output Shape              Param #   \n",
      "=================================================================\n",
      "batch_normalization_v1 (Batc multiple                  16        \n",
      "_________________________________________________________________\n",
      "dense (Dense)                multiple                  15        \n",
      "=================================================================\n",
      "Total params: 31\n",
      "Trainable params: 23\n",
      "Non-trainable params: 8\n",
      "_________________________________________________________________\n"
     ]
    }
   ],
   "source": [
    "model.summary()"
   ]
  },
  {
   "cell_type": "code",
   "execution_count": 56,
   "metadata": {
    "colab": {},
    "colab_type": "code",
    "id": "n8rd0jjAjyTR"
   },
   "outputs": [],
   "source": [
    "model.save_weights('iris_1.h5')"
   ]
  },
  {
   "cell_type": "markdown",
   "metadata": {
    "colab_type": "text",
    "id": "XiipRpe7rbVh"
   },
   "source": [
    "### Build and Train a Deep Neural network with 2 hidden layer  - Optional - For Practice\n",
    "\n",
    "Does it perform better than Linear Classifier? What could be the reason for difference in performance?"
   ]
  },
  {
   "cell_type": "code",
   "execution_count": null,
   "metadata": {
    "colab": {},
    "colab_type": "code",
    "id": "v5Du3lubr4sA"
   },
   "outputs": [],
   "source": []
  },
  {
   "cell_type": "code",
   "execution_count": null,
   "metadata": {},
   "outputs": [],
   "source": []
  }
 ],
 "metadata": {
  "kernelspec": {
   "display_name": "Python 3",
   "language": "python",
   "name": "python3"
  },
  "language_info": {
   "codemirror_mode": {
    "name": "ipython",
    "version": 3
   },
   "file_extension": ".py",
   "mimetype": "text/x-python",
   "name": "python",
   "nbconvert_exporter": "python",
   "pygments_lexer": "ipython3",
   "version": "3.6.5"
  }
 },
 "nbformat": 4,
 "nbformat_minor": 2
}
