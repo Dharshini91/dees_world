{
 "cells": [
  {
   "cell_type": "markdown",
   "metadata": {},
   "source": [
    "The Titan Insurance Company has just installed a new incentive payment scheme for its life policy sales force. It wants to have an early view of the success or failure of the new scheme. Indications are that the sales force is selling more policies, but sales always vary in an unpredictable pattern from month to month and it is not clear that the scheme has made a significant difference.\n",
    "\n",
    "Life Insurance companies typically measure the monthly output of a salesperson as the total sum assured for the policies sold by that person during the month. For example, suppose salesperson X has, in the month, sold seven policies for which the sums assured are £1000, £2500, £3000, £5000, £10000, £35000. X's output for the month is the total of these sums assured, £61,500. Titan's new scheme is that the sales force receives low regular salaries but are paid large bonuses related to their output (i.e. to the total sum assured of policies sold by them). The scheme is expensive for the company, but they are looking for sales increases which more than compensate. The agreement with the sales force is that if the scheme does not at least break even for the company, it will be abandoned after six months.\n",
    "\n",
    "The scheme has now been in operation for four months. It has settled down after fluctuations in the first two months due to the changeover.\n",
    "\n",
    "To test the effectiveness of the scheme, Titan have taken a random sample of 30 salespeople measured their output in the penultimate month prior to changeover and then measured it in the fourth month after the changeover (they have deliberately chosen months not too close to the changeover). The outputs of the salespeople are shown in Table 1\n",
    "\n",
    "Questions:\n",
    "\n",
    "    1. Find the mean of old scheme and new scheme column. (5 points)\n",
    "    2. Use the five percent significance test over the data to determine the p value to check new scheme has significantly raised outputs? (10 points)\n",
    "    3. What conclusion does the test (p-value) lead to? (2.5 points)\n",
    "    4. Suppose it has been calculated that in order for Titan to break even, the average output must increase by £5000 in the scheme compared to the old scheme. If this figure is alternative hypothesis, what is:\n",
    "        a) The probability of a type 1 error? (2.5 points)\n",
    "        b) What is the p- value of the hypothesis test if we test for a difference of $5000? (10 points)\n",
    "        c) Power of the test (5 points)"
   ]
  },
  {
   "cell_type": "code",
   "execution_count": 1,
   "metadata": {},
   "outputs": [],
   "source": [
    "import numpy as np\n",
    "import pandas as pd"
   ]
  },
  {
   "cell_type": "code",
   "execution_count": 2,
   "metadata": {},
   "outputs": [],
   "source": [
    "titan = pd.read_csv(\"Titan_Insurance_Sales_Performance.csv\")"
   ]
  },
  {
   "cell_type": "code",
   "execution_count": 3,
   "metadata": {},
   "outputs": [
    {
     "data": {
      "text/html": [
       "<div>\n",
       "<style scoped>\n",
       "    .dataframe tbody tr th:only-of-type {\n",
       "        vertical-align: middle;\n",
       "    }\n",
       "\n",
       "    .dataframe tbody tr th {\n",
       "        vertical-align: top;\n",
       "    }\n",
       "\n",
       "    .dataframe thead th {\n",
       "        text-align: right;\n",
       "    }\n",
       "</style>\n",
       "<table border=\"1\" class=\"dataframe\">\n",
       "  <thead>\n",
       "    <tr style=\"text-align: right;\">\n",
       "      <th></th>\n",
       "      <th>Sales_Person</th>\n",
       "      <th>Old_Scheme_Sales</th>\n",
       "      <th>New_Scheme_Sales</th>\n",
       "    </tr>\n",
       "  </thead>\n",
       "  <tbody>\n",
       "    <tr>\n",
       "      <th>0</th>\n",
       "      <td>1</td>\n",
       "      <td>57</td>\n",
       "      <td>62</td>\n",
       "    </tr>\n",
       "    <tr>\n",
       "      <th>1</th>\n",
       "      <td>2</td>\n",
       "      <td>103</td>\n",
       "      <td>122</td>\n",
       "    </tr>\n",
       "    <tr>\n",
       "      <th>2</th>\n",
       "      <td>3</td>\n",
       "      <td>59</td>\n",
       "      <td>54</td>\n",
       "    </tr>\n",
       "    <tr>\n",
       "      <th>3</th>\n",
       "      <td>4</td>\n",
       "      <td>75</td>\n",
       "      <td>82</td>\n",
       "    </tr>\n",
       "    <tr>\n",
       "      <th>4</th>\n",
       "      <td>5</td>\n",
       "      <td>84</td>\n",
       "      <td>84</td>\n",
       "    </tr>\n",
       "  </tbody>\n",
       "</table>\n",
       "</div>"
      ],
      "text/plain": [
       "   Sales_Person  Old_Scheme_Sales  New_Scheme_Sales\n",
       "0             1                57                62\n",
       "1             2               103               122\n",
       "2             3                59                54\n",
       "3             4                75                82\n",
       "4             5                84                84"
      ]
     },
     "execution_count": 3,
     "metadata": {},
     "output_type": "execute_result"
    }
   ],
   "source": [
    "titan.head()"
   ]
  },
  {
   "cell_type": "code",
   "execution_count": 4,
   "metadata": {},
   "outputs": [
    {
     "data": {
      "text/html": [
       "<div>\n",
       "<style scoped>\n",
       "    .dataframe tbody tr th:only-of-type {\n",
       "        vertical-align: middle;\n",
       "    }\n",
       "\n",
       "    .dataframe tbody tr th {\n",
       "        vertical-align: top;\n",
       "    }\n",
       "\n",
       "    .dataframe thead th {\n",
       "        text-align: right;\n",
       "    }\n",
       "</style>\n",
       "<table border=\"1\" class=\"dataframe\">\n",
       "  <thead>\n",
       "    <tr style=\"text-align: right;\">\n",
       "      <th></th>\n",
       "      <th>count</th>\n",
       "      <th>mean</th>\n",
       "      <th>std</th>\n",
       "      <th>min</th>\n",
       "      <th>25%</th>\n",
       "      <th>50%</th>\n",
       "      <th>75%</th>\n",
       "      <th>max</th>\n",
       "    </tr>\n",
       "  </thead>\n",
       "  <tbody>\n",
       "    <tr>\n",
       "      <th>Sales_Person</th>\n",
       "      <td>30.0</td>\n",
       "      <td>15.500000</td>\n",
       "      <td>8.803408</td>\n",
       "      <td>1.0</td>\n",
       "      <td>8.25</td>\n",
       "      <td>15.5</td>\n",
       "      <td>22.75</td>\n",
       "      <td>30.0</td>\n",
       "    </tr>\n",
       "    <tr>\n",
       "      <th>Old_Scheme_Sales</th>\n",
       "      <td>30.0</td>\n",
       "      <td>68.033333</td>\n",
       "      <td>20.455980</td>\n",
       "      <td>28.0</td>\n",
       "      <td>54.00</td>\n",
       "      <td>67.0</td>\n",
       "      <td>81.50</td>\n",
       "      <td>110.0</td>\n",
       "    </tr>\n",
       "    <tr>\n",
       "      <th>New_Scheme_Sales</th>\n",
       "      <td>30.0</td>\n",
       "      <td>72.033333</td>\n",
       "      <td>24.062395</td>\n",
       "      <td>32.0</td>\n",
       "      <td>55.00</td>\n",
       "      <td>74.0</td>\n",
       "      <td>85.75</td>\n",
       "      <td>122.0</td>\n",
       "    </tr>\n",
       "  </tbody>\n",
       "</table>\n",
       "</div>"
      ],
      "text/plain": [
       "                  count       mean        std   min    25%   50%    75%    max\n",
       "Sales_Person       30.0  15.500000   8.803408   1.0   8.25  15.5  22.75   30.0\n",
       "Old_Scheme_Sales   30.0  68.033333  20.455980  28.0  54.00  67.0  81.50  110.0\n",
       "New_Scheme_Sales   30.0  72.033333  24.062395  32.0  55.00  74.0  85.75  122.0"
      ]
     },
     "execution_count": 4,
     "metadata": {},
     "output_type": "execute_result"
    }
   ],
   "source": [
    "titan.describe().transpose()"
   ]
  },
  {
   "cell_type": "markdown",
   "metadata": {},
   "source": [
    "1. Find the mean of old scheme and new scheme column. (5 points)"
   ]
  },
  {
   "cell_type": "code",
   "execution_count": 5,
   "metadata": {},
   "outputs": [
    {
     "name": "stdout",
     "output_type": "stream",
     "text": [
      "The mean value of the Old Scheme is 68.03333333333333\n"
     ]
    }
   ],
   "source": [
    "print(\"The mean value of the Old Scheme is\",titan.Old_Scheme_Sales.mean())"
   ]
  },
  {
   "cell_type": "code",
   "execution_count": 6,
   "metadata": {},
   "outputs": [
    {
     "name": "stdout",
     "output_type": "stream",
     "text": [
      "The mean value of the New Scheme is  72.03333333333333\n"
     ]
    }
   ],
   "source": [
    "print(\"The mean value of the New Scheme is \",titan.New_Scheme_Sales.mean())"
   ]
  },
  {
   "cell_type": "markdown",
   "metadata": {},
   "source": [
    "2. Use the five percent significance test over the data to determine the p value to check new scheme has significantly raised outputs? (10 points)\n",
    "\n",
    "Answer:"
   ]
  },
  {
   "cell_type": "code",
   "execution_count": 7,
   "metadata": {},
   "outputs": [
    {
     "name": "stdout",
     "output_type": "stream",
     "text": [
      "The p-value of the test is 0.06528776980668831\n",
      "The power of the above ttest is 0.24615579359381035\n"
     ]
    }
   ],
   "source": [
    "from scipy.stats import ttest_rel\n",
    "t_statistic, p_value = ttest_rel(titan.Old_Scheme_Sales,titan.New_Scheme_Sales)\n",
    "# since the ttest_rel is meant for 2 tailed testing\n",
    "# the p-value must be divided by two to apply 2tailed test to this scenario\n",
    "print(\"The p-value of the test is\",p_value/2)\n",
    "\n",
    "import statsmodels.stats.power as p\n",
    "nobs = titan.Old_Scheme_Sales.count() # number of observations is 30\n",
    "alpha = 0.05\n",
    "ef_n = titan.New_Scheme_Sales.mean() - titan.Old_Scheme_Sales.mean()\n",
    "ef_d = (((30-1)*titan.Old_Scheme_Sales.var())+((30-1)*titan.New_Scheme_Sales.var()))/(30+30-1-1)\n",
    "effect_size = ef_n / np.sqrt(ef_d)\n",
    "print(\"The power of the above ttest is\",p.ttest_power(effect_size,30,0.05,alternative = 'larger'))"
   ]
  },
  {
   "cell_type": "markdown",
   "metadata": {},
   "source": [
    "3. What conclusion does the test (p-value) lead to? (2.5 points)"
   ]
  },
  {
   "cell_type": "markdown",
   "metadata": {},
   "source": [
    "Answer:\n",
    "\n",
    "The null hypothesis is that the old scheme and the new scheme have similar variance.\n",
    "The p-value is 0.0652877698, which is greater than the level of significance [0.05 or 5%].\n",
    "Hence from the t_test we conclude that there is not enough evidence to reject the null hypothesis.\n",
    "i.e. we are not rejecting the null hypothesis yet.\n",
    "i.e. the old and the new schemes have similar variances (or) similar means and that\n",
    "the new scheme has not significantly raised the outputs.\n",
    "\n",
    "\n",
    "\n",
    "Also note that the power of this test is only 0.246 where as the norm for a model to be accepted is atleast 0.8.\n",
    "This means that the confidence with which we donot reject the null hypothesis when it should not be rejected is only 0.246"
   ]
  },
  {
   "cell_type": "markdown",
   "metadata": {},
   "source": [
    "4. Suppose it has been calculated that in order for Titan to break even, the average output must increase by £5000 in the scheme compared to the old scheme. If this figure is alternative hypothesis, what is:\n",
    "\n",
    "a) The probability of a type 1 error? (2.5 points)"
   ]
  },
  {
   "cell_type": "markdown",
   "metadata": {},
   "source": [
    "Answer: Since we have set the level of significance to 0.05, the probability of committing a Type 1 error is also 0.05"
   ]
  },
  {
   "cell_type": "markdown",
   "metadata": {},
   "source": [
    "b) What is the p- value of the hypothesis test if we test for a difference of £5000? (10 points)"
   ]
  },
  {
   "cell_type": "code",
   "execution_count": null,
   "metadata": {},
   "outputs": [],
   "source": [
    "# The null hypothesis is that for Titan to break even the new scheme sales must be £5000 more than the old scheme sales\n",
    "# i.e. New_Scheme_Sales.mean() - Old_Scheme_Sales.mean() = £5000\n",
    "# The alternative hypothesis New_Scheme_Sales.mean() - Old_Scheme_Sales.mean() <> £5000\n",
    "# Since the comparison is between a sample and a constant mean value, 1 sample testing suits this sccenario\n",
    "# Since the data source table has values in short hand (in thousands but represented without zeroes)\n",
    "# the constant value of mean is used as 5 instead of 5000\n",
    "from scipy.stats import ttest_1samp\n",
    "t_statistic, p_value = ttest_1samp(titan.New_Scheme_Sales-titan.Old_Scheme_Sales,5)\n",
    "# The 1 Sample Test is a 2 tailed test. Applying that to a 1 tailed test requires dividing the p-value by 2\n",
    "print(\"The p-value of the test for a difference of 5k is\",p_value/2)\n",
    "print(\"Conclusion:\")\n",
    "if p_value/2 > 0.05:\n",
    "    print(\"Since the p-value of the test for a difference of 5k is greater than the level of significance we cannot reject the null hypothesis\")\n",
    "else:\n",
    "    print(\"Since the p-value of the test for a difference of 5k is less than the level of significance we reject the null hypothesis\")"
   ]
  },
  {
   "cell_type": "markdown",
   "metadata": {},
   "source": [
    "c) Power of the test (5 points)"
   ]
  },
  {
   "cell_type": "code",
   "execution_count": null,
   "metadata": {},
   "outputs": [],
   "source": [
    "import statsmodels.stats.power as p\n",
    "\n",
    "# Actual difference of mean [True Mean] - Expected difference of mean[Hypothesised Mean]\n",
    "ef_n = (np.mean(titan.New_Scheme_Sales-titan.Old_Scheme_Sales)) - 5\n",
    "\n",
    "# Standard Deviation of the difference of mean\n",
    "ef_d = (titan.New_Scheme_Sales - titan.Old_Scheme_Sales).std()\n",
    "\n",
    "effect_size = ef_n / ef_d\n",
    "\n",
    "print(\"The power of the above ttest is\",p.ttest_power(effect_size,30,0.05,alternative = 'larger'))"
   ]
  },
  {
   "cell_type": "markdown",
   "metadata": {},
   "source": [
    "Conclusion:\n",
    "\n",
    "Our model rejects the null hypothesis correctly with an accuracy of 0.0214.\n",
    "\n",
    "But the accepted norms for the power of a model is 0.8. This indicates that the model is poorly built and that the confidence with which we donot reject the null hypothesis, when it should not be rejected is only 2%"
   ]
  }
 ],
 "metadata": {
  "kernelspec": {
   "display_name": "Python 3",
   "language": "python",
   "name": "python3"
  },
  "language_info": {
   "codemirror_mode": {
    "name": "ipython",
    "version": 3
   },
   "file_extension": ".py",
   "mimetype": "text/x-python",
   "name": "python",
   "nbconvert_exporter": "python",
   "pygments_lexer": "ipython3",
   "version": "3.6.5"
  }
 },
 "nbformat": 4,
 "nbformat_minor": 2
}
