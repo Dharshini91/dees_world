{
 "cells": [
  {
   "cell_type": "markdown",
   "metadata": {},
   "source": [
    "Scrap Lunar cycle data from the site for Atlanta region \n",
    "https://www.timeanddate.com/moon/phases/usa/atlanta?\n"
   ]
  },
  {
   "cell_type": "code",
   "execution_count": 1,
   "metadata": {},
   "outputs": [],
   "source": [
    "import pandas as pd\n",
    "from bs4 import BeautifulSoup as soup\n",
    "import requests as Req\n",
    "import numpy as np"
   ]
  },
  {
   "cell_type": "code",
   "execution_count": 2,
   "metadata": {},
   "outputs": [],
   "source": [
    "############################## Input ##############################\n",
    "# Country \n",
    "Country = \"USA\"\n",
    "# Place \n",
    "Place = \"Atlanta\"\n",
    "# Year\n",
    "Year  = pd.Series([\"2008\",\"2009\",\"2010\",\"2011\",\"2012\",\"2013\",\"2014\",\"2015\",\"2016\",\"2017\",\"2018\"])\n",
    "#Year  = pd.Series([\"1916\"])\n",
    "# Base Url\n",
    "Lunar_bs_url = \"https://www.timeanddate.com/moon/phases/\""
   ]
  },
  {
   "cell_type": "code",
   "execution_count": 3,
   "metadata": {},
   "outputs": [],
   "source": [
    "def build_url(Country,Place,Year):\n",
    "#Sample url \n",
    "#Lunar_url = \"https://www.timeanddate.com/moon/phases/usa/atlanta?year=1982\"\n",
    "    Lunar_ret_df = pd.DataFrame(columns=[\"Year\",\"Country\",\"Place\",\"Lunar_url\"])\n",
    "    for i in range(len(Year)):\n",
    "        Lunar_url    = Country + \"/\" + Place + \"?year=\" + Year[i]\n",
    "        Lunar_sd     = [[Year[i],Country,Place,Lunar_url]]\n",
    "        Lunar_tmp_df = pd.DataFrame(Lunar_sd,columns=[\"Year\",\"Country\",\"Place\",\"Lunar_url\"])\n",
    "        Lunar_ret_df = Lunar_ret_df.append(Lunar_tmp_df) \n",
    "    return Lunar_ret_df"
   ]
  },
  {
   "cell_type": "code",
   "execution_count": 4,
   "metadata": {},
   "outputs": [],
   "source": [
    "Lunar_url_df = pd.DataFrame()\n",
    "Lunar_url_df = build_url(Country,Place,Year)"
   ]
  },
  {
   "cell_type": "code",
   "execution_count": 5,
   "metadata": {},
   "outputs": [
    {
     "data": {
      "text/html": [
       "<div>\n",
       "<style scoped>\n",
       "    .dataframe tbody tr th:only-of-type {\n",
       "        vertical-align: middle;\n",
       "    }\n",
       "\n",
       "    .dataframe tbody tr th {\n",
       "        vertical-align: top;\n",
       "    }\n",
       "\n",
       "    .dataframe thead th {\n",
       "        text-align: right;\n",
       "    }\n",
       "</style>\n",
       "<table border=\"1\" class=\"dataframe\">\n",
       "  <thead>\n",
       "    <tr style=\"text-align: right;\">\n",
       "      <th></th>\n",
       "      <th>Year</th>\n",
       "      <th>Country</th>\n",
       "      <th>Place</th>\n",
       "      <th>Lunar_url</th>\n",
       "    </tr>\n",
       "  </thead>\n",
       "  <tbody>\n",
       "    <tr>\n",
       "      <th>0</th>\n",
       "      <td>2008</td>\n",
       "      <td>USA</td>\n",
       "      <td>Atlanta</td>\n",
       "      <td>USA/Atlanta?year=2008</td>\n",
       "    </tr>\n",
       "    <tr>\n",
       "      <th>1</th>\n",
       "      <td>2009</td>\n",
       "      <td>USA</td>\n",
       "      <td>Atlanta</td>\n",
       "      <td>USA/Atlanta?year=2009</td>\n",
       "    </tr>\n",
       "    <tr>\n",
       "      <th>2</th>\n",
       "      <td>2010</td>\n",
       "      <td>USA</td>\n",
       "      <td>Atlanta</td>\n",
       "      <td>USA/Atlanta?year=2010</td>\n",
       "    </tr>\n",
       "    <tr>\n",
       "      <th>3</th>\n",
       "      <td>2011</td>\n",
       "      <td>USA</td>\n",
       "      <td>Atlanta</td>\n",
       "      <td>USA/Atlanta?year=2011</td>\n",
       "    </tr>\n",
       "    <tr>\n",
       "      <th>4</th>\n",
       "      <td>2012</td>\n",
       "      <td>USA</td>\n",
       "      <td>Atlanta</td>\n",
       "      <td>USA/Atlanta?year=2012</td>\n",
       "    </tr>\n",
       "  </tbody>\n",
       "</table>\n",
       "</div>"
      ],
      "text/plain": [
       "   Year Country    Place              Lunar_url\n",
       "0  2008     USA  Atlanta  USA/Atlanta?year=2008\n",
       "1  2009     USA  Atlanta  USA/Atlanta?year=2009\n",
       "2  2010     USA  Atlanta  USA/Atlanta?year=2010\n",
       "3  2011     USA  Atlanta  USA/Atlanta?year=2011\n",
       "4  2012     USA  Atlanta  USA/Atlanta?year=2012"
      ]
     },
     "execution_count": 5,
     "metadata": {},
     "output_type": "execute_result"
    }
   ],
   "source": [
    "Lunar_url_df.reset_index(drop=True,inplace=True)\n",
    "Lunar_url_df.head()"
   ]
  },
  {
   "cell_type": "markdown",
   "metadata": {},
   "source": [
    "#Start Scrapping"
   ]
  },
  {
   "cell_type": "code",
   "execution_count": 6,
   "metadata": {},
   "outputs": [],
   "source": [
    "Lunar_cycle_df = pd.DataFrame(columns=[\"Year\",\"Country\",\"Place\",\"Full moon\"])"
   ]
  },
  {
   "cell_type": "code",
   "execution_count": 7,
   "metadata": {},
   "outputs": [],
   "source": [
    "for i in range(len(Lunar_url_df)):\n",
    "        Lunar_full_url  = Lunar_bs_url +  Lunar_url_df.Lunar_url[i]\n",
    "#-------- Open the Url\n",
    "        headers = {\"Accept-Language\": \"en-US,en;q=0.5\"}\n",
    "        page_html  = Req.get(Lunar_full_url,headers=headers)\n",
    "#--------  Parse the Html      \n",
    "        page_soup = soup(page_html.content,\"html.parser\")\n",
    "        page_table = page_soup.find_all(\"table\",{\"class\":\"tb-sm zebra fw tb-hover\"})\n",
    "        page_table = soup.prettify(page_table[0])\n",
    "        page_soup  = soup(page_table,\"html.parser\")\n",
    "        table_body = page_soup.find_all(\"tbody\")\n",
    "        table_body = soup.prettify(table_body[0])\n",
    "        page_soup  = soup(table_body,\"html.parser\")\n",
    "        table_month = page_soup.find_all(\"tr\")\n",
    "        for j in range(len(table_month)):\n",
    "            table_row   = soup.prettify(table_month[j])\n",
    "            page_soup   = soup(table_row,\"html.parser\")\n",
    "            table_val   = page_soup.findAll(name=\"td\")\n",
    "            lunar_date  = soup.prettify(table_val[4])\n",
    "            lunar_date  = lunar_date.rsplit(sep=\">\")\n",
    "            Full_moon   = lunar_date[1].rsplit(sep=\"<\")\n",
    "            Full_moon   = Full_moon[0]\n",
    "            Full_moon   = Full_moon.replace(\"\\n\",\" \")\n",
    "            if Full_moon != \" \":\n",
    "                Full_moon   = Full_moon + \" \" + Lunar_url_df.Year[i]\n",
    "                Lunar_cycle_s = [[Lunar_url_df.Year[i],Lunar_url_df.Country[i],Lunar_url_df.Place[i],Full_moon]]\n",
    "                Lunar_cyc_df  = pd.DataFrame(Lunar_cycle_s,columns=[\"Year\",\"Country\",\"Place\",\"Full moon\"])\n",
    "                Lunar_cyc_df[\"Full moon\"] = Lunar_cyc_df[\"Full moon\"].str.strip()\n",
    "                Lunar_cycle_df = Lunar_cycle_df.append(Lunar_cyc_df)\n",
    "#        Cont_1\n",
    "        "
   ]
  },
  {
   "cell_type": "code",
   "execution_count": 8,
   "metadata": {},
   "outputs": [
    {
     "data": {
      "text/html": [
       "<div>\n",
       "<style scoped>\n",
       "    .dataframe tbody tr th:only-of-type {\n",
       "        vertical-align: middle;\n",
       "    }\n",
       "\n",
       "    .dataframe tbody tr th {\n",
       "        vertical-align: top;\n",
       "    }\n",
       "\n",
       "    .dataframe thead th {\n",
       "        text-align: right;\n",
       "    }\n",
       "</style>\n",
       "<table border=\"1\" class=\"dataframe\">\n",
       "  <thead>\n",
       "    <tr style=\"text-align: right;\">\n",
       "      <th></th>\n",
       "      <th>Year</th>\n",
       "      <th>Country</th>\n",
       "      <th>Place</th>\n",
       "      <th>Full moon</th>\n",
       "    </tr>\n",
       "  </thead>\n",
       "  <tbody>\n",
       "    <tr>\n",
       "      <th>0</th>\n",
       "      <td>2008</td>\n",
       "      <td>USA</td>\n",
       "      <td>Atlanta</td>\n",
       "      <td>21 Jan  2008</td>\n",
       "    </tr>\n",
       "    <tr>\n",
       "      <th>1</th>\n",
       "      <td>2008</td>\n",
       "      <td>USA</td>\n",
       "      <td>Atlanta</td>\n",
       "      <td>19 Feb  2008</td>\n",
       "    </tr>\n",
       "    <tr>\n",
       "      <th>2</th>\n",
       "      <td>2008</td>\n",
       "      <td>USA</td>\n",
       "      <td>Atlanta</td>\n",
       "      <td>20 Mar  2008</td>\n",
       "    </tr>\n",
       "    <tr>\n",
       "      <th>3</th>\n",
       "      <td>2008</td>\n",
       "      <td>USA</td>\n",
       "      <td>Atlanta</td>\n",
       "      <td>19 Apr  2008</td>\n",
       "    </tr>\n",
       "    <tr>\n",
       "      <th>4</th>\n",
       "      <td>2008</td>\n",
       "      <td>USA</td>\n",
       "      <td>Atlanta</td>\n",
       "      <td>18 May  2008</td>\n",
       "    </tr>\n",
       "  </tbody>\n",
       "</table>\n",
       "</div>"
      ],
      "text/plain": [
       "   Year Country    Place     Full moon\n",
       "0  2008     USA  Atlanta  21 Jan  2008\n",
       "1  2008     USA  Atlanta  19 Feb  2008\n",
       "2  2008     USA  Atlanta  20 Mar  2008\n",
       "3  2008     USA  Atlanta  19 Apr  2008\n",
       "4  2008     USA  Atlanta  18 May  2008"
      ]
     },
     "execution_count": 8,
     "metadata": {},
     "output_type": "execute_result"
    }
   ],
   "source": [
    "Lunar_cycle_df.reset_index(drop=True,inplace=True)\n",
    "Lunar_cycle_df.head()"
   ]
  },
  {
   "cell_type": "code",
   "execution_count": 9,
   "metadata": {},
   "outputs": [],
   "source": [
    "#Write to File \n",
    "Lunar_cycle_df.to_csv(\"Lunar_cycle.csv\")"
   ]
  },
  {
   "cell_type": "code",
   "execution_count": null,
   "metadata": {},
   "outputs": [],
   "source": []
  }
 ],
 "metadata": {
  "kernelspec": {
   "display_name": "Python 3",
   "language": "python",
   "name": "python3"
  },
  "language_info": {
   "codemirror_mode": {
    "name": "ipython",
    "version": 3
   },
   "file_extension": ".py",
   "mimetype": "text/x-python",
   "name": "python",
   "nbconvert_exporter": "python",
   "pygments_lexer": "ipython3",
   "version": "3.6.5"
  }
 },
 "nbformat": 4,
 "nbformat_minor": 2
}
